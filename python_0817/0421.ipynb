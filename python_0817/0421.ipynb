{
 "cells": [
  {
   "cell_type": "code",
   "execution_count": 4,
   "metadata": {},
   "outputs": [],
   "source": [
    "import cv2\n",
    "import numpy as np\n",
    "import time"
   ]
  },
  {
   "cell_type": "code",
   "execution_count": 12,
   "metadata": {},
   "outputs": [],
   "source": [
    "dst = np.full((512,512,3),(255,255,255),dtype=np.uint8)\n",
    "nPoints = 100\n",
    "pts = np.zeros((1,nPoints,2),dtype=np.uint8)"
   ]
  },
  {
   "cell_type": "code",
   "execution_count": 13,
   "metadata": {},
   "outputs": [
    {
     "data": {
      "text/plain": [
       "array([[[118,  75],\n",
       "        [105, 255],\n",
       "        [ 81, 173],\n",
       "        [214, 255],\n",
       "        [122, 213],\n",
       "        [150,  19],\n",
       "        [255, 163],\n",
       "        [255, 255],\n",
       "        [215, 232],\n",
       "        [255, 255],\n",
       "        [240, 123],\n",
       "        [255, 255],\n",
       "        [ 59, 255],\n",
       "        [201, 105],\n",
       "        [255, 255],\n",
       "        [255,  33],\n",
       "        [255,  89],\n",
       "        [102, 255],\n",
       "        [ 13, 145],\n",
       "        [129, 106],\n",
       "        [ 51, 244],\n",
       "        [255, 127],\n",
       "        [255, 255],\n",
       "        [255,  25],\n",
       "        [174, 160],\n",
       "        [255,  18],\n",
       "        [  3, 162],\n",
       "        [ 91, 255],\n",
       "        [ 58, 255],\n",
       "        [255, 185],\n",
       "        [255, 121],\n",
       "        [255, 255],\n",
       "        [151,   1],\n",
       "        [255, 255],\n",
       "        [ 66, 255],\n",
       "        [113, 100],\n",
       "        [ 23,  13],\n",
       "        [181, 255],\n",
       "        [255, 205],\n",
       "        [ 96, 255],\n",
       "        [255, 131],\n",
       "        [255, 172],\n",
       "        [255, 158],\n",
       "        [255, 255],\n",
       "        [255, 133],\n",
       "        [126, 203],\n",
       "        [255, 106],\n",
       "        [ 84,  59],\n",
       "        [255, 255],\n",
       "        [178, 255],\n",
       "        [  3,  31],\n",
       "        [254, 255],\n",
       "        [255, 255],\n",
       "        [107, 255],\n",
       "        [ 87, 255],\n",
       "        [ 58, 207],\n",
       "        [255, 255],\n",
       "        [113, 255],\n",
       "        [161, 255],\n",
       "        [123, 202],\n",
       "        [255, 255],\n",
       "        [221, 255],\n",
       "        [255, 255],\n",
       "        [255, 255],\n",
       "        [223, 255],\n",
       "        [ 12,  76],\n",
       "        [255, 154],\n",
       "        [255, 255],\n",
       "        [181, 255],\n",
       "        [  4, 255],\n",
       "        [ 65, 120],\n",
       "        [  9, 255],\n",
       "        [255,   1],\n",
       "        [158, 255],\n",
       "        [180, 255],\n",
       "        [255, 255],\n",
       "        [ 32, 255],\n",
       "        [255, 255],\n",
       "        [255, 192],\n",
       "        [255, 255],\n",
       "        [  3, 165],\n",
       "        [255,  64],\n",
       "        [255, 181],\n",
       "        [151,  78],\n",
       "        [255, 255],\n",
       "        [255,  63],\n",
       "        [255, 150],\n",
       "        [ 48, 247],\n",
       "        [206, 255],\n",
       "        [ 93, 157],\n",
       "        [255, 255],\n",
       "        [255, 108],\n",
       "        [205, 124],\n",
       "        [255,  97],\n",
       "        [ 67, 255],\n",
       "        [  2, 101],\n",
       "        [254, 243],\n",
       "        [255,  40],\n",
       "        [255, 255],\n",
       "        [162, 255]]], dtype=uint8)"
      ]
     },
     "execution_count": 13,
     "metadata": {},
     "output_type": "execute_result"
    }
   ],
   "source": [
    "cv2.setRNGSeed(int(time.time()))\n",
    "cv2.randu(pts,(0,0),(512,512))"
   ]
  },
  {
   "cell_type": "code",
   "execution_count": 14,
   "metadata": {},
   "outputs": [],
   "source": [
    "for k in range(nPoints):\n",
    "    x,y = pts[0,k][:]\n",
    "    cv2.circle(dst,(x,y),radius=5,color=(0,0,255),thickness=-1)"
   ]
  },
  {
   "cell_type": "code",
   "execution_count": 15,
   "metadata": {},
   "outputs": [],
   "source": [
    "cv2.imshow('dst',dst)\n",
    "cv2.waitKey()\n",
    "cv2.destroyAllWindows()"
   ]
  }
 ],
 "metadata": {
  "kernelspec": {
   "display_name": "Python 3",
   "language": "python",
   "name": "python3"
  },
  "language_info": {
   "codemirror_mode": {
    "name": "ipython",
    "version": 3
   },
   "file_extension": ".py",
   "mimetype": "text/x-python",
   "name": "python",
   "nbconvert_exporter": "python",
   "pygments_lexer": "ipython3",
   "version": "3.7.7"
  }
 },
 "nbformat": 4,
 "nbformat_minor": 4
}
