{
 "cells": [
  {
   "cell_type": "markdown",
   "metadata": {},
   "source": [
    "## tensorflow를 이용한 예제"
   ]
  },
  {
   "cell_type": "code",
   "execution_count": 2,
   "metadata": {},
   "outputs": [
    {
     "name": "stderr",
     "output_type": "stream",
     "text": [
      "Using TensorFlow backend.\n"
     ]
    }
   ],
   "source": [
    "from tensorflow.keras.models import Sequential\n",
    "from tensorflow.keras.layers import Dense\n",
    "from tensorflow.keras import optimizers\n",
    "from keras.callbacks import EarlyStopping"
   ]
  },
  {
   "cell_type": "markdown",
   "metadata": {},
   "source": [
    "#### 모듈에러시 conda install keras"
   ]
  },
  {
   "cell_type": "code",
   "execution_count": 3,
   "metadata": {},
   "outputs": [],
   "source": [
    "import numpy as np\n",
    "import tensorflow as tf"
   ]
  },
  {
   "cell_type": "code",
   "execution_count": 4,
   "metadata": {},
   "outputs": [],
   "source": [
    "np.random.seed(3)\n",
    "tf.random.set_seed(3)"
   ]
  },
  {
   "cell_type": "code",
   "execution_count": 5,
   "metadata": {},
   "outputs": [
    {
     "data": {
      "text/plain": [
       "array([[ 2., 81.],\n",
       "       [ 4., 93.],\n",
       "       [ 6., 91.],\n",
       "       [ 8., 97.]])"
      ]
     },
     "execution_count": 5,
     "metadata": {},
     "output_type": "execute_result"
    }
   ],
   "source": [
    "Data_set = np.loadtxt('./console.csv',delimiter=',')\n",
    "Data_set"
   ]
  },
  {
   "cell_type": "code",
   "execution_count": 6,
   "metadata": {},
   "outputs": [
    {
     "data": {
      "text/plain": [
       "[2.0, 4.0, 6.0, 8.0]"
      ]
     },
     "execution_count": 6,
     "metadata": {},
     "output_type": "execute_result"
    }
   ],
   "source": [
    "x = [i[0] for i in Data_set]\n",
    "x"
   ]
  },
  {
   "cell_type": "code",
   "execution_count": 7,
   "metadata": {},
   "outputs": [
    {
     "data": {
      "text/plain": [
       "[81.0, 93.0, 91.0, 97.0]"
      ]
     },
     "execution_count": 7,
     "metadata": {},
     "output_type": "execute_result"
    }
   ],
   "source": [
    "y = [i[1] for i in Data_set]\n",
    "y"
   ]
  },
  {
   "cell_type": "code",
   "execution_count": 8,
   "metadata": {},
   "outputs": [],
   "source": [
    "model = Sequential()\n",
    "model.add(Dense(1,input_dim=1,activation='linear'))"
   ]
  },
  {
   "cell_type": "code",
   "execution_count": 15,
   "metadata": {},
   "outputs": [
    {
     "name": "stdout",
     "output_type": "stream",
     "text": [
      "Train on 4 samples\n",
      "Epoch 1/100\n",
      "4/4 [==============================] - 0s 60ms/sample - loss: 12.3318 - mse: 12.3318\n",
      "Epoch 2/100\n",
      "4/4 [==============================] - 0s 3ms/sample - loss: 12.3318 - mse: 12.3318\n",
      "Epoch 3/100\n",
      "4/4 [==============================] - 0s 3ms/sample - loss: 12.3318 - mse: 12.3318\n",
      "Epoch 4/100\n",
      "4/4 [==============================] - 0s 3ms/sample - loss: 12.3318 - mse: 12.3318\n",
      "Epoch 5/100\n",
      "4/4 [==============================] - 0s 3ms/sample - loss: 12.3318 - mse: 12.3318\n",
      "Epoch 6/100\n",
      "4/4 [==============================] - 0s 3ms/sample - loss: 12.3318 - mse: 12.3318\n",
      "Epoch 7/100\n",
      "4/4 [==============================] - 0s 3ms/sample - loss: 12.3318 - mse: 12.3318\n",
      "Epoch 8/100\n",
      "4/4 [==============================] - 0s 3ms/sample - loss: 12.3318 - mse: 12.3318\n",
      "Epoch 9/100\n",
      "4/4 [==============================] - 0s 2ms/sample - loss: 12.3318 - mse: 12.3318\n",
      "Epoch 10/100\n",
      "4/4 [==============================] - 0s 3ms/sample - loss: 12.3318 - mse: 12.3318\n",
      "Epoch 11/100\n",
      "4/4 [==============================] - 0s 3ms/sample - loss: 12.3318 - mse: 12.3318\n",
      "Epoch 12/100\n",
      "4/4 [==============================] - 0s 2ms/sample - loss: 12.3318 - mse: 12.3318\n",
      "Epoch 13/100\n",
      "4/4 [==============================] - 0s 3ms/sample - loss: 12.3318 - mse: 12.3318\n",
      "Epoch 14/100\n",
      "4/4 [==============================] - 0s 2ms/sample - loss: 12.3318 - mse: 12.3318\n",
      "Epoch 15/100\n",
      "4/4 [==============================] - 0s 3ms/sample - loss: 12.3318 - mse: 12.3318\n",
      "Epoch 16/100\n",
      "4/4 [==============================] - 0s 3ms/sample - loss: 12.3318 - mse: 12.3318\n",
      "Epoch 17/100\n",
      "4/4 [==============================] - 0s 2ms/sample - loss: 12.3318 - mse: 12.3318\n",
      "Epoch 18/100\n",
      "4/4 [==============================] - 0s 3ms/sample - loss: 12.3318 - mse: 12.3318\n",
      "Epoch 19/100\n",
      "4/4 [==============================] - 0s 3ms/sample - loss: 12.3318 - mse: 12.3318\n",
      "Epoch 20/100\n",
      "4/4 [==============================] - 0s 3ms/sample - loss: 12.3318 - mse: 12.3318\n",
      "Epoch 21/100\n",
      "4/4 [==============================] - 0s 5ms/sample - loss: 12.3318 - mse: 12.3318\n",
      "Epoch 22/100\n",
      "4/4 [==============================] - 0s 3ms/sample - loss: 12.3318 - mse: 12.3318\n",
      "Epoch 23/100\n",
      "4/4 [==============================] - 0s 3ms/sample - loss: 12.3318 - mse: 12.3318\n",
      "Epoch 24/100\n",
      "4/4 [==============================] - 0s 3ms/sample - loss: 12.3318 - mse: 12.3318\n",
      "Epoch 25/100\n",
      "4/4 [==============================] - 0s 3ms/sample - loss: 12.3318 - mse: 12.3318\n",
      "Epoch 26/100\n",
      "4/4 [==============================] - 0s 3ms/sample - loss: 12.3318 - mse: 12.3318\n",
      "Epoch 27/100\n",
      "4/4 [==============================] - 0s 3ms/sample - loss: 12.3318 - mse: 12.3318\n",
      "Epoch 28/100\n",
      "4/4 [==============================] - 0s 2ms/sample - loss: 12.3318 - mse: 12.3318\n",
      "Epoch 29/100\n",
      "4/4 [==============================] - 0s 2ms/sample - loss: 12.3318 - mse: 12.3318\n",
      "Epoch 30/100\n",
      "4/4 [==============================] - 0s 2ms/sample - loss: 12.3318 - mse: 12.3318\n",
      "Epoch 31/100\n",
      "4/4 [==============================] - 0s 3ms/sample - loss: 12.3318 - mse: 12.3318\n",
      "Epoch 32/100\n",
      "4/4 [==============================] - 0s 2ms/sample - loss: 12.3318 - mse: 12.3318\n",
      "Epoch 33/100\n",
      "4/4 [==============================] - 0s 3ms/sample - loss: 12.3318 - mse: 12.3318\n",
      "Epoch 34/100\n",
      "4/4 [==============================] - 0s 3ms/sample - loss: 12.3318 - mse: 12.3318\n",
      "Epoch 35/100\n",
      "4/4 [==============================] - 0s 2ms/sample - loss: 12.3318 - mse: 12.3318\n",
      "Epoch 36/100\n",
      "4/4 [==============================] - 0s 3ms/sample - loss: 12.3318 - mse: 12.3318\n",
      "Epoch 37/100\n",
      "4/4 [==============================] - 0s 2ms/sample - loss: 12.3318 - mse: 12.3318\n",
      "Epoch 38/100\n",
      "4/4 [==============================] - 0s 3ms/sample - loss: 12.3318 - mse: 12.3318\n",
      "Epoch 39/100\n",
      "4/4 [==============================] - 0s 2ms/sample - loss: 12.3318 - mse: 12.3318\n",
      "Epoch 40/100\n",
      "4/4 [==============================] - 0s 3ms/sample - loss: 12.3318 - mse: 12.3318\n",
      "Epoch 41/100\n",
      "4/4 [==============================] - 0s 3ms/sample - loss: 12.3318 - mse: 12.3318\n",
      "Epoch 42/100\n",
      "4/4 [==============================] - 0s 3ms/sample - loss: 12.3318 - mse: 12.3318\n",
      "Epoch 43/100\n",
      "4/4 [==============================] - 0s 3ms/sample - loss: 12.3318 - mse: 12.3318\n",
      "Epoch 44/100\n",
      "4/4 [==============================] - 0s 2ms/sample - loss: 12.3318 - mse: 12.3318\n",
      "Epoch 45/100\n",
      "4/4 [==============================] - 0s 3ms/sample - loss: 12.3318 - mse: 12.3318\n",
      "Epoch 46/100\n",
      "4/4 [==============================] - 0s 2ms/sample - loss: 12.3318 - mse: 12.3318\n",
      "Epoch 47/100\n",
      "4/4 [==============================] - 0s 3ms/sample - loss: 12.3318 - mse: 12.3318\n",
      "Epoch 48/100\n",
      "4/4 [==============================] - 0s 3ms/sample - loss: 12.3318 - mse: 12.3318\n",
      "Epoch 49/100\n",
      "4/4 [==============================] - 0s 3ms/sample - loss: 12.3318 - mse: 12.3318\n",
      "Epoch 50/100\n",
      "4/4 [==============================] - 0s 2ms/sample - loss: 12.3318 - mse: 12.3318\n",
      "Epoch 51/100\n",
      "4/4 [==============================] - 0s 2ms/sample - loss: 12.3318 - mse: 12.3318\n",
      "Epoch 52/100\n",
      "4/4 [==============================] - 0s 2ms/sample - loss: 12.3318 - mse: 12.3318\n",
      "Epoch 53/100\n",
      "4/4 [==============================] - 0s 2ms/sample - loss: 12.3318 - mse: 12.3318\n",
      "Epoch 54/100\n",
      "4/4 [==============================] - 0s 3ms/sample - loss: 12.3318 - mse: 12.3318\n",
      "Epoch 55/100\n",
      "4/4 [==============================] - 0s 3ms/sample - loss: 12.3318 - mse: 12.3318\n",
      "Epoch 56/100\n",
      "4/4 [==============================] - 0s 3ms/sample - loss: 12.3318 - mse: 12.3318\n",
      "Epoch 57/100\n",
      "4/4 [==============================] - 0s 3ms/sample - loss: 12.3318 - mse: 12.3318\n",
      "Epoch 58/100\n",
      "4/4 [==============================] - 0s 3ms/sample - loss: 12.3318 - mse: 12.3318\n",
      "Epoch 59/100\n",
      "4/4 [==============================] - 0s 3ms/sample - loss: 12.3318 - mse: 12.3318\n",
      "Epoch 60/100\n",
      "4/4 [==============================] - 0s 2ms/sample - loss: 12.3318 - mse: 12.3318\n",
      "Epoch 61/100\n",
      "4/4 [==============================] - 0s 3ms/sample - loss: 12.3318 - mse: 12.3318\n",
      "Epoch 62/100\n",
      "4/4 [==============================] - 0s 3ms/sample - loss: 12.3318 - mse: 12.3318\n",
      "Epoch 63/100\n",
      "4/4 [==============================] - 0s 2ms/sample - loss: 12.3318 - mse: 12.3318\n",
      "Epoch 64/100\n",
      "4/4 [==============================] - 0s 2ms/sample - loss: 12.3318 - mse: 12.3318\n",
      "Epoch 65/100\n",
      "4/4 [==============================] - 0s 2ms/sample - loss: 12.3318 - mse: 12.3318\n",
      "Epoch 66/100\n",
      "4/4 [==============================] - 0s 2ms/sample - loss: 12.3318 - mse: 12.3318\n",
      "Epoch 67/100\n",
      "4/4 [==============================] - 0s 2ms/sample - loss: 12.3318 - mse: 12.3318\n",
      "Epoch 68/100\n",
      "4/4 [==============================] - 0s 3ms/sample - loss: 12.3318 - mse: 12.3318\n",
      "Epoch 69/100\n",
      "4/4 [==============================] - 0s 2ms/sample - loss: 12.3318 - mse: 12.3318\n",
      "Epoch 70/100\n",
      "4/4 [==============================] - 0s 3ms/sample - loss: 12.3318 - mse: 12.3318\n",
      "Epoch 71/100\n",
      "4/4 [==============================] - 0s 2ms/sample - loss: 12.3318 - mse: 12.3318\n",
      "Epoch 72/100\n",
      "4/4 [==============================] - 0s 2ms/sample - loss: 12.3318 - mse: 12.3318\n",
      "Epoch 73/100\n",
      "4/4 [==============================] - 0s 2ms/sample - loss: 12.3318 - mse: 12.3318\n",
      "Epoch 74/100\n",
      "4/4 [==============================] - 0s 2ms/sample - loss: 12.3318 - mse: 12.3318\n",
      "Epoch 75/100\n",
      "4/4 [==============================] - 0s 2ms/sample - loss: 12.3318 - mse: 12.3318\n",
      "Epoch 76/100\n",
      "4/4 [==============================] - 0s 3ms/sample - loss: 12.3318 - mse: 12.3318\n",
      "Epoch 77/100\n",
      "4/4 [==============================] - 0s 2ms/sample - loss: 12.3318 - mse: 12.3318\n",
      "Epoch 78/100\n",
      "4/4 [==============================] - 0s 3ms/sample - loss: 12.3318 - mse: 12.3318\n",
      "Epoch 79/100\n",
      "4/4 [==============================] - 0s 3ms/sample - loss: 12.3318 - mse: 12.3318\n",
      "Epoch 80/100\n",
      "4/4 [==============================] - 0s 3ms/sample - loss: 12.3318 - mse: 12.3318\n",
      "Epoch 81/100\n",
      "4/4 [==============================] - 0s 3ms/sample - loss: 12.3318 - mse: 12.3318\n",
      "Epoch 82/100\n",
      "4/4 [==============================] - 0s 3ms/sample - loss: 12.3318 - mse: 12.3318\n",
      "Epoch 83/100\n",
      "4/4 [==============================] - 0s 3ms/sample - loss: 12.3318 - mse: 12.3318\n",
      "Epoch 84/100\n",
      "4/4 [==============================] - 0s 2ms/sample - loss: 12.3318 - mse: 12.3318\n",
      "Epoch 85/100\n",
      "4/4 [==============================] - 0s 2ms/sample - loss: 12.3318 - mse: 12.3318\n",
      "Epoch 86/100\n",
      "4/4 [==============================] - 0s 3ms/sample - loss: 12.3318 - mse: 12.3318\n",
      "Epoch 87/100\n",
      "4/4 [==============================] - 0s 2ms/sample - loss: 12.3318 - mse: 12.3318\n",
      "Epoch 88/100\n",
      "4/4 [==============================] - 0s 2ms/sample - loss: 12.3318 - mse: 12.3318\n",
      "Epoch 89/100\n",
      "4/4 [==============================] - 0s 2ms/sample - loss: 12.3318 - mse: 12.3318\n",
      "Epoch 90/100\n",
      "4/4 [==============================] - 0s 2ms/sample - loss: 12.3318 - mse: 12.3318\n",
      "Epoch 91/100\n",
      "4/4 [==============================] - 0s 2ms/sample - loss: 12.3318 - mse: 12.3318\n",
      "Epoch 92/100\n",
      "4/4 [==============================] - 0s 2ms/sample - loss: 12.3318 - mse: 12.3318\n",
      "Epoch 93/100\n",
      "4/4 [==============================] - 0s 2ms/sample - loss: 12.3318 - mse: 12.3318\n",
      "Epoch 94/100\n",
      "4/4 [==============================] - 0s 2ms/sample - loss: 12.3318 - mse: 12.3318\n",
      "Epoch 95/100\n",
      "4/4 [==============================] - 0s 2ms/sample - loss: 12.3318 - mse: 12.3318\n",
      "Epoch 96/100\n",
      "4/4 [==============================] - 0s 2ms/sample - loss: 12.3318 - mse: 12.3318\n",
      "Epoch 97/100\n",
      "4/4 [==============================] - 0s 2ms/sample - loss: 12.3318 - mse: 12.3318\n",
      "Epoch 98/100\n",
      "4/4 [==============================] - 0s 2ms/sample - loss: 12.3318 - mse: 12.3318\n",
      "Epoch 99/100\n",
      "4/4 [==============================] - 0s 2ms/sample - loss: 12.3318 - mse: 12.3318\n",
      "Epoch 100/100\n",
      "4/4 [==============================] - 0s 2ms/sample - loss: 12.3318 - mse: 12.3318\n"
     ]
    },
    {
     "data": {
      "text/plain": [
       "<tensorflow.python.keras.callbacks.History at 0x12812fdf4c8>"
      ]
     },
     "execution_count": 15,
     "metadata": {},
     "output_type": "execute_result"
    }
   ],
   "source": [
    "sgd = optimizers.SGD(lr=0.01)\n",
    "model.compile(loss = 'mean_squared_error',optimizer=sgd, metrics=['mse'])\n",
    "early_stopping = EarlyStopping() # 과적합방지\n",
    "model.fit(x,y,epochs=100, batch_size=1, shuffle=False, # epochs를 수정함 ex=800\n",
    "         callbacks=[early_stopping])"
   ]
  },
  {
   "cell_type": "code",
   "execution_count": 17,
   "metadata": {},
   "outputs": [
    {
     "data": {
      "image/png": "[encoded data removed]",
      "text/plain": [
       "<Figure size 432x288 with 1 Axes>"
      ]
     },
     "metadata": {
      "needs_background": "light"
     },
     "output_type": "display_data"
    }
   ],
   "source": [
    "import matplotlib.pyplot as plt\n",
    "plt.plot(x,model.predict(x),'blue',x,y,'r.')\n",
    "plt.show()"
   ]
  },
  {
   "cell_type": "code",
   "execution_count": 18,
   "metadata": {},
   "outputs": [
    {
     "data": {
      "text/plain": [
       "[array([[2.3000648]], dtype=float32), array([78.79379], dtype=float32)]"
      ]
     },
     "execution_count": 18,
     "metadata": {},
     "output_type": "execute_result"
    }
   ],
   "source": [
    "#공식으로 구한 W와 B출력\n",
    "model.layers[0].get_weights()"
   ]
  },
  {
   "cell_type": "code",
   "execution_count": 19,
   "metadata": {},
   "outputs": [
    {
     "data": {
      "text/plain": [
       "array([2.3000648], dtype=float32)"
      ]
     },
     "execution_count": 19,
     "metadata": {},
     "output_type": "execute_result"
    }
   ],
   "source": [
    "w = model.layers[0].get_weights()[0][0]\n",
    "w"
   ]
  },
  {
   "cell_type": "code",
   "execution_count": 20,
   "metadata": {},
   "outputs": [
    {
     "data": {
      "text/plain": [
       "78.79379"
      ]
     },
     "execution_count": 20,
     "metadata": {},
     "output_type": "execute_result"
    }
   ],
   "source": [
    "b = model.layers[0].get_weights()[1][0]\n",
    "b"
   ]
  },
  {
   "cell_type": "code",
   "execution_count": 21,
   "metadata": {},
   "outputs": [
    {
     "name": "stdout",
     "output_type": "stream",
     "text": [
      "2시간 공부하였을 때 예상점수 : [83.39392]\n",
      "4시간 공부하였을 때 예상점수 : [87.99405]\n"
     ]
    }
   ],
   "source": [
    "print(f'2시간 공부하였을 때 예상점수 : {w*2 + b}')\n",
    "print(f'4시간 공부하였을 때 예상점수 : {w*4 + b}')"
   ]
  },
  {
   "cell_type": "code",
   "execution_count": 22,
   "metadata": {},
   "outputs": [
    {
     "data": {
      "text/plain": [
       "array([[87.99405]], dtype=float32)"
      ]
     },
     "execution_count": 22,
     "metadata": {},
     "output_type": "execute_result"
    }
   ],
   "source": [
    "pred = model.predict([4])\n",
    "pred"
   ]
  }
 ],
 "metadata": {
  "kernelspec": {
   "display_name": "Python 3",
   "language": "python",
   "name": "python3"
  },
  "language_info": {
   "codemirror_mode": {
    "name": "ipython",
    "version": 3
   },
   "file_extension": ".py",
   "mimetype": "text/x-python",
   "name": "python",
   "nbconvert_exporter": "python",
   "pygments_lexer": "ipython3",
   "version": "3.7.7"
  }
 },
 "nbformat": 4,
 "nbformat_minor": 4
}
