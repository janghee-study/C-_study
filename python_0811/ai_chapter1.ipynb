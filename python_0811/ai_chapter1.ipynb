{
 "cells": [
  {
   "cell_type": "code",
   "execution_count": 12,
   "metadata": {},
   "outputs": [
    {
     "name": "stdout",
     "output_type": "stream",
     "text": [
      "[0, 1, 2, 3, 4, 5, 6, 7, 8, 9]\n",
      "[0, 2, 4, 6, 8]\n"
     ]
    }
   ],
   "source": [
    "### 리스트표현식\n",
    "x = [1,2,3,4,5,6,7,8,9,10]\n",
    "a = [i for i in range(10)]\n",
    "print(a)\n",
    "a = [i for i in range(10) if i % 2 == 0]\n",
    "print(a)"
   ]
  },
  {
   "cell_type": "markdown",
   "metadata": {},
   "source": [
    "### 머신러닝 들어가기"
   ]
  },
  {
   "cell_type": "code",
   "execution_count": 1,
   "metadata": {},
   "outputs": [],
   "source": [
    "import numpy as np\n",
    "x = [2,4,6,8]\n",
    "y = [81,93,91,97]"
   ]
  },
  {
   "cell_type": "code",
   "execution_count": 2,
   "metadata": {},
   "outputs": [
    {
     "name": "stdout",
     "output_type": "stream",
     "text": [
      "x시간의 평균값 : 5.0\n",
      "y시간의 평균값 : 90.5\n"
     ]
    }
   ],
   "source": [
    "mx = np.mean(x)\n",
    "my = np.mean(y)\n",
    "print(f'x시간의 평균값 : {mx}')\n",
    "print(f'y시간의 평균값 : {my}')"
   ]
  },
  {
   "cell_type": "code",
   "execution_count": 3,
   "metadata": {},
   "outputs": [
    {
     "data": {
      "text/plain": [
       "20.0"
      ]
     },
     "execution_count": 3,
     "metadata": {},
     "output_type": "execute_result"
    }
   ],
   "source": [
    "divisor = sum([(i-mx)**2 for i in x])\n",
    "divisor"
   ]
  },
  {
   "cell_type": "code",
   "execution_count": 4,
   "metadata": {},
   "outputs": [
    {
     "data": {
      "text/plain": [
       "46.0"
      ]
     },
     "execution_count": 4,
     "metadata": {},
     "output_type": "execute_result"
    }
   ],
   "source": [
    "def top(x,mx,y,my):\n",
    "    d = 0\n",
    "    for i in range(len(x)):\n",
    "        d += (x[i]-mx) * (y[i]-my)\n",
    "    return d\n",
    "\n",
    "dividend = top(x,mx,y,my)\n",
    "dividend"
   ]
  },
  {
   "cell_type": "code",
   "execution_count": 6,
   "metadata": {},
   "outputs": [
    {
     "name": "stdout",
     "output_type": "stream",
     "text": [
      "분모 : 20.0\n",
      "분자 : 46.0\n"
     ]
    }
   ],
   "source": [
    "print(f'분모 : {divisor}')\n",
    "print(f'분자 : {dividend}')"
   ]
  },
  {
   "cell_type": "code",
   "execution_count": 7,
   "metadata": {},
   "outputs": [],
   "source": [
    "a = dividend / divisor\n",
    "b = my - (mx*a)"
   ]
  },
  {
   "cell_type": "code",
   "execution_count": 8,
   "metadata": {},
   "outputs": [
    {
     "name": "stdout",
     "output_type": "stream",
     "text": [
      "기울기 a : 2.3\n",
      "y 절편 b : 79.0\n"
     ]
    }
   ],
   "source": [
    "print(f'기울기 a : {a}')\n",
    "print(f'y 절편 b : {b}')"
   ]
  }
 ],
 "metadata": {
  "kernelspec": {
   "display_name": "Python 3",
   "language": "python",
   "name": "python3"
  },
  "language_info": {
   "codemirror_mode": {
    "name": "ipython",
    "version": 3
   },
   "file_extension": ".py",
   "mimetype": "text/x-python",
   "name": "python",
   "nbconvert_exporter": "python",
   "pygments_lexer": "ipython3",
   "version": "3.7.7"
  }
 },
 "nbformat": 4,
 "nbformat_minor": 4
}
