{
 "cells": [
  {
   "cell_type": "markdown",
   "metadata": {},
   "source": [
    "## 임의의 값에서 최적값 변환"
   ]
  },
  {
   "cell_type": "markdown",
   "metadata": {},
   "source": [
    "#### ▶목표: 경사 하강법을 통한 자동 최적 값 찾기\n",
    "##### 임의의 값 : y = 3x + 76\n",
    "##### 목표 최적의 값 : y = 2.3x + 79"
   ]
  },
  {
   "cell_type": "code",
   "execution_count": 2,
   "metadata": {},
   "outputs": [],
   "source": [
    "import numpy as np\n",
    "import pandas as pd\n",
    "import matplotlib.pyplot as plt"
   ]
  },
  {
   "cell_type": "code",
   "execution_count": 3,
   "metadata": {},
   "outputs": [],
   "source": [
    "data = [[2,81],[4,93],[6,91],[8,97]] #공부시간, 실제성적\n",
    "x = [2,4,6,8]\n",
    "y = [i[1] for i in data]"
   ]
  },
  {
   "cell_type": "code",
   "execution_count": 4,
   "metadata": {},
   "outputs": [
    {
     "data": {
      "image/png": "[encoded data removed]",
      "text/plain": [
       "<Figure size 648x216 with 1 Axes>"
      ]
     },
     "metadata": {
      "needs_background": "light"
     },
     "output_type": "display_data"
    }
   ],
   "source": [
    "plt.figure(figsize=(9,3))\n",
    "plt.scatter(x,y) # 산점도\n",
    "plt.show()"
   ]
  },
  {
   "cell_type": "code",
   "execution_count": 5,
   "metadata": {},
   "outputs": [],
   "source": [
    "x_data = np.array(x) # 리스트 -> numpy의 배열로 변경\n",
    "y_data = np.array(y)"
   ]
  },
  {
   "cell_type": "code",
   "execution_count": 6,
   "metadata": {},
   "outputs": [],
   "source": [
    "a = 3\n",
    "b = 76"
   ]
  },
  {
   "cell_type": "code",
   "execution_count": 7,
   "metadata": {},
   "outputs": [],
   "source": [
    "# 학습률\n",
    "# 한번 학습할 떄 얼만큼 이동할 것인지\n",
    "lr = 0.01"
   ]
  },
  {
   "cell_type": "code",
   "execution_count": 9,
   "metadata": {},
   "outputs": [],
   "source": [
    "# 몇번 학습할 것인지\n",
    "epoch = 8000"
   ]
  },
  {
   "cell_type": "code",
   "execution_count": 10,
   "metadata": {},
   "outputs": [
    {
     "name": "stdout",
     "output_type": "stream",
     "text": [
      "epoch=0,기울기 = 2.9400,절편 = 75.9950\n",
      "epoch=100,기울기 = 2.7313,절편 = 76.4262\n",
      "epoch=200,기울기 = 2.6667,절편 = 76.8117\n",
      "epoch=300,기울기 = 2.6118,절편 = 77.1395\n",
      "epoch=400,기울기 = 2.5651,절편 = 77.4182\n",
      "epoch=500,기울기 = 2.5254,절편 = 77.6551\n",
      "epoch=600,기울기 = 2.4916,절편 = 77.8566\n",
      "epoch=700,기울기 = 2.4629,절편 = 78.0278\n",
      "epoch=800,기울기 = 2.4385,절편 = 78.1735\n",
      "epoch=900,기울기 = 2.4178,절편 = 78.2973\n",
      "epoch=1000,기울기 = 2.4001,절편 = 78.4025\n",
      "epoch=1100,기울기 = 2.3851,절편 = 78.4920\n",
      "epoch=1200,기울기 = 2.3724,절편 = 78.5681\n",
      "epoch=1300,기울기 = 2.3615,절편 = 78.6328\n",
      "epoch=1400,기울기 = 2.3523,절편 = 78.6878\n",
      "epoch=1500,기울기 = 2.3445,절편 = 78.7346\n",
      "epoch=1600,기울기 = 2.3378,절편 = 78.7743\n",
      "epoch=1700,기울기 = 2.3322,절편 = 78.8081\n",
      "epoch=1800,기울기 = 2.3273,절편 = 78.8369\n",
      "epoch=1900,기울기 = 2.3232,절편 = 78.8613\n",
      "epoch=2000,기울기 = 2.3198,절편 = 78.8821\n",
      "epoch=2100,기울기 = 2.3168,절편 = 78.8997\n",
      "epoch=2200,기울기 = 2.3143,절편 = 78.9148\n",
      "epoch=2300,기울기 = 2.3121,절편 = 78.9275\n",
      "epoch=2400,기울기 = 2.3103,절편 = 78.9384\n",
      "epoch=2500,기울기 = 2.3088,절편 = 78.9476\n",
      "epoch=2600,기울기 = 2.3075,절편 = 78.9555\n",
      "epoch=2700,기울기 = 2.3063,절편 = 78.9621\n",
      "epoch=2800,기울기 = 2.3054,절편 = 78.9678\n",
      "epoch=2900,기울기 = 2.3046,절편 = 78.9726\n",
      "epoch=3000,기울기 = 2.3039,절편 = 78.9767\n",
      "epoch=3100,기울기 = 2.3033,절편 = 78.9802\n",
      "epoch=3200,기울기 = 2.3028,절편 = 78.9832\n",
      "epoch=3300,기울기 = 2.3024,절편 = 78.9857\n",
      "epoch=3400,기울기 = 2.3020,절편 = 78.9878\n",
      "epoch=3500,기울기 = 2.3017,절편 = 78.9897\n",
      "epoch=3600,기울기 = 2.3015,절편 = 78.9912\n",
      "epoch=3700,기울기 = 2.3013,절편 = 78.9925\n",
      "epoch=3800,기울기 = 2.3011,절편 = 78.9936\n",
      "epoch=3900,기울기 = 2.3009,절편 = 78.9946\n",
      "epoch=4000,기울기 = 2.3008,절편 = 78.9954\n",
      "epoch=4100,기울기 = 2.3007,절편 = 78.9961\n",
      "epoch=4200,기울기 = 2.3006,절편 = 78.9967\n",
      "epoch=4300,기울기 = 2.3005,절편 = 78.9972\n",
      "epoch=4400,기울기 = 2.3004,절편 = 78.9976\n",
      "epoch=4500,기울기 = 2.3003,절편 = 78.9980\n",
      "epoch=4600,기울기 = 2.3003,절편 = 78.9983\n",
      "epoch=4700,기울기 = 2.3002,절편 = 78.9985\n",
      "epoch=4800,기울기 = 2.3002,절편 = 78.9987\n",
      "epoch=4900,기울기 = 2.3002,절편 = 78.9989\n",
      "epoch=5000,기울기 = 2.3002,절편 = 78.9991\n",
      "epoch=5100,기울기 = 2.3001,절편 = 78.9992\n",
      "epoch=5200,기울기 = 2.3001,절편 = 78.9993\n",
      "epoch=5300,기울기 = 2.3001,절편 = 78.9994\n",
      "epoch=5400,기울기 = 2.3001,절편 = 78.9995\n",
      "epoch=5500,기울기 = 2.3001,절편 = 78.9996\n",
      "epoch=5600,기울기 = 2.3001,절편 = 78.9997\n",
      "epoch=5700,기울기 = 2.3000,절편 = 78.9997\n",
      "epoch=5800,기울기 = 2.3000,절편 = 78.9998\n",
      "epoch=5900,기울기 = 2.3000,절편 = 78.9998\n",
      "epoch=6000,기울기 = 2.3000,절편 = 78.9998\n",
      "epoch=6100,기울기 = 2.3000,절편 = 78.9998\n",
      "epoch=6200,기울기 = 2.3000,절편 = 78.9999\n",
      "epoch=6300,기울기 = 2.3000,절편 = 78.9999\n",
      "epoch=6400,기울기 = 2.3000,절편 = 78.9999\n",
      "epoch=6500,기울기 = 2.3000,절편 = 78.9999\n",
      "epoch=6600,기울기 = 2.3000,절편 = 78.9999\n",
      "epoch=6700,기울기 = 2.3000,절편 = 78.9999\n",
      "epoch=6800,기울기 = 2.3000,절편 = 79.0000\n",
      "epoch=6900,기울기 = 2.3000,절편 = 79.0000\n",
      "epoch=7000,기울기 = 2.3000,절편 = 79.0000\n",
      "epoch=7100,기울기 = 2.3000,절편 = 79.0000\n",
      "epoch=7200,기울기 = 2.3000,절편 = 79.0000\n",
      "epoch=7300,기울기 = 2.3000,절편 = 79.0000\n",
      "epoch=7400,기울기 = 2.3000,절편 = 79.0000\n",
      "epoch=7500,기울기 = 2.3000,절편 = 79.0000\n",
      "epoch=7600,기울기 = 2.3000,절편 = 79.0000\n",
      "epoch=7700,기울기 = 2.3000,절편 = 79.0000\n",
      "epoch=7800,기울기 = 2.3000,절편 = 79.0000\n",
      "epoch=7900,기울기 = 2.3000,절편 = 79.0000\n"
     ]
    }
   ],
   "source": [
    "for i in range(epoch):\n",
    "    y_hat = a* x_data +b #y를 구하는 식을 세움 y_hat은 예측값을 뜻함\n",
    "    error = y_data - y_hat #오차 (실제-예측)\n",
    "    a_diff = -(1/len(x_data)) * sum(x_data * (error)) # 오차함수를 a로 미분한 값,a는 가중치, 기울기\n",
    "    b_diff = -(1/len(x_data)) * sum(error) # 오차함수를 b로 미분한 값\n",
    "    a = a - (lr * a_diff) # 학습률을 곱해 기존의 a값을 업데이트\n",
    "    b = b - (lr * b_diff) # 학습률을 곱해 기존의 b값을 업데이트\n",
    "    if i % 100 == 0:\n",
    "        print(\"epoch=%.f,기울기 = %.04f,절편 = %.04f\"%(i,a,b))"
   ]
  },
  {
   "cell_type": "code",
   "execution_count": null,
   "metadata": {},
   "outputs": [],
   "source": []
  },
  {
   "cell_type": "code",
   "execution_count": null,
   "metadata": {},
   "outputs": [],
   "source": []
  }
 ],
 "metadata": {
  "kernelspec": {
   "display_name": "Python 3",
   "language": "python",
   "name": "python3"
  },
  "language_info": {
   "codemirror_mode": {
    "name": "ipython",
    "version": 3
   },
   "file_extension": ".py",
   "mimetype": "text/x-python",
   "name": "python",
   "nbconvert_exporter": "python",
   "pygments_lexer": "ipython3",
   "version": "3.7.7"
  }
 },
 "nbformat": 4,
 "nbformat_minor": 4
}
