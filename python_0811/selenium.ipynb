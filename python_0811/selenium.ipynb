{
 "cells": [
  {
   "cell_type": "code",
   "execution_count": 34,
   "metadata": {},
   "outputs": [],
   "source": [
    "import pandas as pd\n",
    "import numpy as np\n",
    "from bs4 import BeautifulSoup"
   ]
  },
  {
   "cell_type": "code",
   "execution_count": 35,
   "metadata": {},
   "outputs": [],
   "source": [
    "from selenium import webdriver"
   ]
  },
  {
   "cell_type": "code",
   "execution_count": 36,
   "metadata": {},
   "outputs": [],
   "source": [
    "driver = webdriver.Chrome('./chromedriver.exe')"
   ]
  },
  {
   "cell_type": "code",
   "execution_count": 42,
   "metadata": {},
   "outputs": [],
   "source": [
    "driver.get(\"https://finance.naver.com/item/sise_day.nhn?code=005930\")"
   ]
  },
  {
   "cell_type": "code",
   "execution_count": 43,
   "metadata": {},
   "outputs": [],
   "source": [
    "page = driver.page_source"
   ]
  },
  {
   "cell_type": "code",
   "execution_count": 44,
   "metadata": {},
   "outputs": [
    {
     "name": "stderr",
     "output_type": "stream",
     "text": [
      "C:\\Users\\user\\anaconda3\\envs\\iot\\lib\\site-packages\\bs4\\__init__.py:166: UserWarning: No parser was explicitly specified, so I'm using the best available HTML parser for this system (\"html.parser\"). This usually isn't a problem, but if you run this code on another system, or in a different virtual environment, it may use a different parser and behave differently.\n",
      "\n",
      "To get rid of this warning, change this:\n",
      "\n",
      " BeautifulSoup([your markup])\n",
      "\n",
      "to this:\n",
      "\n",
      " BeautifulSoup([your markup], \"html.parser\")\n",
      "\n",
      "  markup_type=markup_type))\n"
     ]
    }
   ],
   "source": [
    "soup = BeautifulSoup(page,'html')"
   ]
  },
  {
   "cell_type": "code",
   "execution_count": 48,
   "metadata": {},
   "outputs": [
    {
     "data": {
      "text/html": [
       "<div>\n",
       "<style scoped>\n",
       "    .dataframe tbody tr th:only-of-type {\n",
       "        vertical-align: middle;\n",
       "    }\n",
       "\n",
       "    .dataframe tbody tr th {\n",
       "        vertical-align: top;\n",
       "    }\n",
       "\n",
       "    .dataframe thead th {\n",
       "        text-align: right;\n",
       "    }\n",
       "</style>\n",
       "<table border=\"1\" class=\"dataframe\">\n",
       "  <thead>\n",
       "    <tr style=\"text-align: right;\">\n",
       "      <th></th>\n",
       "      <th>0</th>\n",
       "      <th>1</th>\n",
       "      <th>2</th>\n",
       "      <th>3</th>\n",
       "      <th>4</th>\n",
       "      <th>5</th>\n",
       "      <th>6</th>\n",
       "    </tr>\n",
       "  </thead>\n",
       "  <tbody>\n",
       "    <tr>\n",
       "      <th>0</th>\n",
       "      <td>날짜</td>\n",
       "      <td>종가</td>\n",
       "      <td>전일비</td>\n",
       "      <td>시가</td>\n",
       "      <td>고가</td>\n",
       "      <td>저가</td>\n",
       "      <td>거래량</td>\n",
       "    </tr>\n",
       "    <tr>\n",
       "      <th>2</th>\n",
       "      <td>2020.08.11</td>\n",
       "      <td>58,800</td>\n",
       "      <td>1,000</td>\n",
       "      <td>58,000</td>\n",
       "      <td>59,500</td>\n",
       "      <td>57,800</td>\n",
       "      <td>19,002,781</td>\n",
       "    </tr>\n",
       "    <tr>\n",
       "      <th>3</th>\n",
       "      <td>2020.08.10</td>\n",
       "      <td>57,800</td>\n",
       "      <td>300</td>\n",
       "      <td>57,600</td>\n",
       "      <td>58,300</td>\n",
       "      <td>57,500</td>\n",
       "      <td>17,774,291</td>\n",
       "    </tr>\n",
       "    <tr>\n",
       "      <th>4</th>\n",
       "      <td>2020.08.07</td>\n",
       "      <td>57,500</td>\n",
       "      <td>500</td>\n",
       "      <td>57,900</td>\n",
       "      <td>58,400</td>\n",
       "      <td>57,100</td>\n",
       "      <td>18,751,717</td>\n",
       "    </tr>\n",
       "    <tr>\n",
       "      <th>5</th>\n",
       "      <td>2020.08.06</td>\n",
       "      <td>58,000</td>\n",
       "      <td>1,100</td>\n",
       "      <td>57,100</td>\n",
       "      <td>58,400</td>\n",
       "      <td>57,100</td>\n",
       "      <td>21,625,874</td>\n",
       "    </tr>\n",
       "    <tr>\n",
       "      <th>6</th>\n",
       "      <td>2020.08.05</td>\n",
       "      <td>56,900</td>\n",
       "      <td>400</td>\n",
       "      <td>57,300</td>\n",
       "      <td>57,500</td>\n",
       "      <td>56,300</td>\n",
       "      <td>17,739,706</td>\n",
       "    </tr>\n",
       "    <tr>\n",
       "      <th>10</th>\n",
       "      <td>2020.08.04</td>\n",
       "      <td>57,300</td>\n",
       "      <td>500</td>\n",
       "      <td>57,200</td>\n",
       "      <td>58,100</td>\n",
       "      <td>57,000</td>\n",
       "      <td>19,419,694</td>\n",
       "    </tr>\n",
       "    <tr>\n",
       "      <th>11</th>\n",
       "      <td>2020.08.03</td>\n",
       "      <td>56,800</td>\n",
       "      <td>1,100</td>\n",
       "      <td>57,800</td>\n",
       "      <td>57,900</td>\n",
       "      <td>56,700</td>\n",
       "      <td>21,158,940</td>\n",
       "    </tr>\n",
       "    <tr>\n",
       "      <th>12</th>\n",
       "      <td>2020.07.31</td>\n",
       "      <td>57,900</td>\n",
       "      <td>1,100</td>\n",
       "      <td>59,500</td>\n",
       "      <td>59,600</td>\n",
       "      <td>57,700</td>\n",
       "      <td>21,943,345</td>\n",
       "    </tr>\n",
       "    <tr>\n",
       "      <th>13</th>\n",
       "      <td>2020.07.30</td>\n",
       "      <td>59,000</td>\n",
       "      <td>0</td>\n",
       "      <td>59,700</td>\n",
       "      <td>60,100</td>\n",
       "      <td>59,000</td>\n",
       "      <td>19,285,354</td>\n",
       "    </tr>\n",
       "    <tr>\n",
       "      <th>14</th>\n",
       "      <td>2020.07.29</td>\n",
       "      <td>59,000</td>\n",
       "      <td>400</td>\n",
       "      <td>60,300</td>\n",
       "      <td>60,400</td>\n",
       "      <td>58,600</td>\n",
       "      <td>36,476,611</td>\n",
       "    </tr>\n",
       "  </tbody>\n",
       "</table>\n",
       "</div>"
      ],
      "text/plain": [
       "             0       1      2       3       4       5           6\n",
       "0           날짜      종가    전일비      시가      고가      저가         거래량\n",
       "2   2020.08.11  58,800  1,000  58,000  59,500  57,800  19,002,781\n",
       "3   2020.08.10  57,800    300  57,600  58,300  57,500  17,774,291\n",
       "4   2020.08.07  57,500    500  57,900  58,400  57,100  18,751,717\n",
       "5   2020.08.06  58,000  1,100  57,100  58,400  57,100  21,625,874\n",
       "6   2020.08.05  56,900    400  57,300  57,500  56,300  17,739,706\n",
       "10  2020.08.04  57,300    500  57,200  58,100  57,000  19,419,694\n",
       "11  2020.08.03  56,800  1,100  57,800  57,900  56,700  21,158,940\n",
       "12  2020.07.31  57,900  1,100  59,500  59,600  57,700  21,943,345\n",
       "13  2020.07.30  59,000      0  59,700  60,100  59,000  19,285,354\n",
       "14  2020.07.29  59,000    400  60,300  60,400  58,600  36,476,611"
      ]
     },
     "execution_count": 48,
     "metadata": {},
     "output_type": "execute_result"
    }
   ],
   "source": [
    "table = soup.find_all('tbody')\n",
    "table = table[0]\n",
    "from html_table_parser import parser_functions as parser\n",
    "table2 = parser.make2d(table)\n",
    "df = pd.DataFrame(table2)\n",
    "df = df.drop([1,7,8,9,15])\n",
    "df"
   ]
  },
  {
   "cell_type": "code",
   "execution_count": 57,
   "metadata": {},
   "outputs": [
    {
     "data": {
      "text/plain": [
       "(0             날짜\n",
       " 2     2020.08.11\n",
       " 3     2020.08.10\n",
       " 4     2020.08.07\n",
       " 5     2020.08.06\n",
       " 6     2020.08.05\n",
       " 10    2020.08.04\n",
       " 11    2020.08.03\n",
       " 12    2020.07.31\n",
       " 13    2020.07.30\n",
       " 14    2020.07.29\n",
       " Name: 0, dtype: object,\n",
       " 0         종가\n",
       " 2     58,800\n",
       " 3     57,800\n",
       " 4     57,500\n",
       " 5     58,000\n",
       " 6     56,900\n",
       " 10    57,300\n",
       " 11    56,800\n",
       " 12    57,900\n",
       " 13    59,000\n",
       " 14    59,000\n",
       " Name: 1, dtype: object)"
      ]
     },
     "execution_count": 57,
     "metadata": {},
     "output_type": "execute_result"
    }
   ],
   "source": [
    "df[0],df[1]"
   ]
  },
  {
   "cell_type": "code",
   "execution_count": null,
   "metadata": {},
   "outputs": [],
   "source": []
  }
 ],
 "metadata": {
  "kernelspec": {
   "display_name": "Python 3",
   "language": "python",
   "name": "python3"
  },
  "language_info": {
   "codemirror_mode": {
    "name": "ipython",
    "version": 3
   },
   "file_extension": ".py",
   "mimetype": "text/x-python",
   "name": "python",
   "nbconvert_exporter": "python",
   "pygments_lexer": "ipython3",
   "version": "3.7.7"
  }
 },
 "nbformat": 4,
 "nbformat_minor": 4
}
