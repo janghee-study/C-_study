{
 "cells": [
  {
   "cell_type": "markdown",
   "metadata": {},
   "source": [
    "### 영상연산 : 비트연산1"
   ]
  },
  {
   "cell_type": "code",
   "execution_count": 11,
   "metadata": {},
   "outputs": [],
   "source": [
    "import cv2\n",
    "import numpy as np\n",
    "src1 = cv2.imread('./data/lena.jpg',cv2.IMREAD_GRAYSCALE)\n",
    "src2 = np.zeros(shape=(512,512),dtype=np.uint8)+100"
   ]
  },
  {
   "cell_type": "markdown",
   "metadata": {},
   "source": [
    "#### 타겟 이미지"
   ]
  },
  {
   "cell_type": "code",
   "execution_count": 12,
   "metadata": {},
   "outputs": [
    {
     "name": "stdout",
     "output_type": "stream",
     "text": [
      "[[  7   6   5 ...  14 254 230]\n",
      " [  6   6   6 ...  17 255 226]\n",
      " [  6   6   7 ...  14 255 228]\n",
      " ...\n",
      " [143 142 151 ... 203 201 199]\n",
      " [141 142 155 ... 203 205 206]\n",
      " [142 144 157 ... 202 206 209]]\n",
      "[[255 255 255 ... 255 254 230]\n",
      " [255 255 255 ... 255 255 226]\n",
      " [255 255 255 ... 255 255 228]\n",
      " ...\n",
      " [143 142 151 ... 203 201 199]\n",
      " [141 142 155 ... 203 205 206]\n",
      " [142 144 157 ... 202 206 209]]\n",
      "[[255 255 255 ... 255 254 230]\n",
      " [255 255 255 ... 255 255 226]\n",
      " [255 255 255 ... 255 255 228]\n",
      " ...\n",
      " [143 142 151 ... 203 201 199]\n",
      " [141 142 155 ... 203 205 206]\n",
      " [142 144 157 ... 202 206 209]]\n"
     ]
    }
   ],
   "source": [
    "dst1 = src1 + src2 #원하지 않는 255이 넘어가는 값을 0부터 다시 시작함\n",
    "print(dst1)\n",
    "dst2 = cv2.add(src1,src2)\n",
    "print(dst2)\n",
    "dst3 =cv2.add(src1,src2,dtype=cv2.CV_8U)\n",
    "print(dst3)"
   ]
  },
  {
   "cell_type": "code",
   "execution_count": 13,
   "metadata": {},
   "outputs": [],
   "source": [
    "dst3 = ~dst3 #반전영상"
   ]
  },
  {
   "cell_type": "code",
   "execution_count": 14,
   "metadata": {},
   "outputs": [],
   "source": [
    "cv2.imshow('dst1',dst1)\n",
    "cv2.imshow('dst2',dst2)\n",
    "cv2.imshow('dst3',dst3)\n",
    "\n",
    "cv2.waitKey()\n",
    "cv2.destroyAllWindows()"
   ]
  }
 ],
 "metadata": {
  "kernelspec": {
   "display_name": "Python 3",
   "language": "python",
   "name": "python3"
  },
  "language_info": {
   "codemirror_mode": {
    "name": "ipython",
    "version": 3
   },
   "file_extension": ".py",
   "mimetype": "text/x-python",
   "name": "python",
   "nbconvert_exporter": "python",
   "pygments_lexer": "ipython3",
   "version": "3.7.7"
  }
 },
 "nbformat": 4,
 "nbformat_minor": 4
}
