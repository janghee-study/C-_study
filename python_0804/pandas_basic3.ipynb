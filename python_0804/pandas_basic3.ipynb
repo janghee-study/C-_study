{
 "cells": [
  {
   "cell_type": "markdown",
   "metadata": {},
   "source": [
    "### 연습문제"
   ]
  },
  {
   "cell_type": "code",
   "execution_count": null,
   "metadata": {},
   "outputs": [],
   "source": [
    "1. 주피터랩에서 엑셀, csv 두 방식으로 읽어 드려 데이터프레임 타입으로 변환시켜 보세요.\n",
    "2. 국가이름이 인덱스가 되게 만들어 보세요.\n",
    "3. 전체 누계, 정렬 등 데이터를 판다스를 사용해 조작해 보세요."
   ]
  },
  {
   "cell_type": "code",
   "execution_count": 1,
   "metadata": {},
   "outputs": [],
   "source": [
    "import numpy as np\n",
    "import pandas as pd"
   ]
  },
  {
   "cell_type": "code",
   "execution_count": 2,
   "metadata": {},
   "outputs": [],
   "source": [
    "df1 = pd.read_excel('covid_data1 (1).xlsx',encoding='utf-8')\n",
    "#df1"
   ]
  },
  {
   "cell_type": "code",
   "execution_count": 3,
   "metadata": {},
   "outputs": [
    {
     "data": {
      "text/html": [
       "<div>\n",
       "<style scoped>\n",
       "    .dataframe tbody tr th:only-of-type {\n",
       "        vertical-align: middle;\n",
       "    }\n",
       "\n",
       "    .dataframe tbody tr th {\n",
       "        vertical-align: top;\n",
       "    }\n",
       "\n",
       "    .dataframe thead th {\n",
       "        text-align: right;\n",
       "    }\n",
       "</style>\n",
       "<table border=\"1\" class=\"dataframe\">\n",
       "  <thead>\n",
       "    <tr style=\"text-align: right;\">\n",
       "      <th></th>\n",
       "      <th>국가</th>\n",
       "      <th>감염자인원</th>\n",
       "      <th>감염자 발생률</th>\n",
       "      <th>사망자 인원</th>\n",
       "      <th>사망자 발생률</th>\n",
       "      <th>사망률</th>\n",
       "    </tr>\n",
       "  </thead>\n",
       "  <tbody>\n",
       "    <tr>\n",
       "      <th>0</th>\n",
       "      <td>미국</td>\n",
       "      <td>4,665,002</td>\n",
       "      <td>1417.5</td>\n",
       "      <td>154,834</td>\n",
       "      <td>47.0</td>\n",
       "      <td>3.3</td>\n",
       "    </tr>\n",
       "    <tr>\n",
       "      <th>1</th>\n",
       "      <td>브라질</td>\n",
       "      <td>2,733,677</td>\n",
       "      <td>1287.0</td>\n",
       "      <td>94,104</td>\n",
       "      <td>44.3</td>\n",
       "      <td>3.4</td>\n",
       "    </tr>\n",
       "    <tr>\n",
       "      <th>2</th>\n",
       "      <td>인도</td>\n",
       "      <td>1,750,723</td>\n",
       "      <td>127.9</td>\n",
       "      <td>37,364</td>\n",
       "      <td>2.7</td>\n",
       "      <td>2.1</td>\n",
       "    </tr>\n",
       "    <tr>\n",
       "      <th>3</th>\n",
       "      <td>러시아</td>\n",
       "      <td>850,870</td>\n",
       "      <td>591.3</td>\n",
       "      <td>14,128</td>\n",
       "      <td>9.8</td>\n",
       "      <td>1.7</td>\n",
       "    </tr>\n",
       "    <tr>\n",
       "      <th>4</th>\n",
       "      <td>남아프리카공화국</td>\n",
       "      <td>503,290</td>\n",
       "      <td>866.2</td>\n",
       "      <td>8,153</td>\n",
       "      <td>14.0</td>\n",
       "      <td>1.6</td>\n",
       "    </tr>\n",
       "  </tbody>\n",
       "</table>\n",
       "</div>"
      ],
      "text/plain": [
       "         국가      감염자인원  감염자 발생률   사망자 인원  사망자 발생률  사망률\n",
       "0        미국  4,665,002   1417.5  154,834     47.0  3.3\n",
       "1       브라질  2,733,677   1287.0   94,104     44.3  3.4\n",
       "2        인도  1,750,723    127.9   37,364      2.7  2.1\n",
       "3       러시아    850,870    591.3   14,128      9.8  1.7\n",
       "4  남아프리카공화국    503,290    866.2    8,153     14.0  1.6"
      ]
     },
     "execution_count": 3,
     "metadata": {},
     "output_type": "execute_result"
    }
   ],
   "source": [
    "df = pd.read_csv('covid_data1 (1).csv',\n",
    "                      encoding='utf-8')\n",
    "df.head()"
   ]
  },
  {
   "cell_type": "code",
   "execution_count": 4,
   "metadata": {},
   "outputs": [],
   "source": [
    "df.set_index('국가',inplace=True)"
   ]
  },
  {
   "cell_type": "code",
   "execution_count": 6,
   "metadata": {},
   "outputs": [
    {
     "data": {
      "text/html": [
       "<div>\n",
       "<style scoped>\n",
       "    .dataframe tbody tr th:only-of-type {\n",
       "        vertical-align: middle;\n",
       "    }\n",
       "\n",
       "    .dataframe tbody tr th {\n",
       "        vertical-align: top;\n",
       "    }\n",
       "\n",
       "    .dataframe thead th {\n",
       "        text-align: right;\n",
       "    }\n",
       "</style>\n",
       "<table border=\"1\" class=\"dataframe\">\n",
       "  <thead>\n",
       "    <tr style=\"text-align: right;\">\n",
       "      <th></th>\n",
       "      <th>감염자인원</th>\n",
       "      <th>감염자 발생률</th>\n",
       "      <th>사망자 인원</th>\n",
       "      <th>사망자 발생률</th>\n",
       "      <th>사망률</th>\n",
       "    </tr>\n",
       "    <tr>\n",
       "      <th>국가</th>\n",
       "      <th></th>\n",
       "      <th></th>\n",
       "      <th></th>\n",
       "      <th></th>\n",
       "      <th></th>\n",
       "    </tr>\n",
       "  </thead>\n",
       "  <tbody>\n",
       "    <tr>\n",
       "      <th>미국</th>\n",
       "      <td>4,665,002</td>\n",
       "      <td>1417.5</td>\n",
       "      <td>154,834</td>\n",
       "      <td>47.0</td>\n",
       "      <td>3.3</td>\n",
       "    </tr>\n",
       "    <tr>\n",
       "      <th>브라질</th>\n",
       "      <td>2,733,677</td>\n",
       "      <td>1287.0</td>\n",
       "      <td>94,104</td>\n",
       "      <td>44.3</td>\n",
       "      <td>3.4</td>\n",
       "    </tr>\n",
       "    <tr>\n",
       "      <th>인도</th>\n",
       "      <td>1,750,723</td>\n",
       "      <td>127.9</td>\n",
       "      <td>37,364</td>\n",
       "      <td>2.7</td>\n",
       "      <td>2.1</td>\n",
       "    </tr>\n",
       "    <tr>\n",
       "      <th>러시아</th>\n",
       "      <td>850,870</td>\n",
       "      <td>591.3</td>\n",
       "      <td>14,128</td>\n",
       "      <td>9.8</td>\n",
       "      <td>1.7</td>\n",
       "    </tr>\n",
       "    <tr>\n",
       "      <th>남아프리카공화국</th>\n",
       "      <td>503,290</td>\n",
       "      <td>866.2</td>\n",
       "      <td>8,153</td>\n",
       "      <td>14.0</td>\n",
       "      <td>1.6</td>\n",
       "    </tr>\n",
       "  </tbody>\n",
       "</table>\n",
       "</div>"
      ],
      "text/plain": [
       "              감염자인원  감염자 발생률   사망자 인원  사망자 발생률  사망률\n",
       "국가                                                 \n",
       "미국        4,665,002   1417.5  154,834     47.0  3.3\n",
       "브라질       2,733,677   1287.0   94,104     44.3  3.4\n",
       "인도        1,750,723    127.9   37,364      2.7  2.1\n",
       "러시아         850,870    591.3   14,128      9.8  1.7\n",
       "남아프리카공화국    503,290    866.2    8,153     14.0  1.6"
      ]
     },
     "execution_count": 6,
     "metadata": {},
     "output_type": "execute_result"
    }
   ],
   "source": [
    "df.head()"
   ]
  },
  {
   "cell_type": "code",
   "execution_count": 17,
   "metadata": {},
   "outputs": [
    {
     "data": {
      "text/plain": [
       "감염자인원       object\n",
       "감염자 발생률    float64\n",
       "사망자 인원      object\n",
       "사망자 발생률    float64\n",
       "사망률        float64\n",
       "dtype: object"
      ]
     },
     "execution_count": 17,
     "metadata": {},
     "output_type": "execute_result"
    }
   ],
   "source": [
    "df.dtypes"
   ]
  },
  {
   "cell_type": "code",
   "execution_count": 13,
   "metadata": {},
   "outputs": [
    {
     "data": {
      "text/html": [
       "<div>\n",
       "<style scoped>\n",
       "    .dataframe tbody tr th:only-of-type {\n",
       "        vertical-align: middle;\n",
       "    }\n",
       "\n",
       "    .dataframe tbody tr th {\n",
       "        vertical-align: top;\n",
       "    }\n",
       "\n",
       "    .dataframe thead th {\n",
       "        text-align: right;\n",
       "    }\n",
       "</style>\n",
       "<table border=\"1\" class=\"dataframe\">\n",
       "  <thead>\n",
       "    <tr style=\"text-align: right;\">\n",
       "      <th></th>\n",
       "      <th>국가</th>\n",
       "      <th>감염자인원</th>\n",
       "      <th>감염자 발생률</th>\n",
       "      <th>사망자 인원</th>\n",
       "      <th>사망자 발생률</th>\n",
       "      <th>사망률</th>\n",
       "    </tr>\n",
       "  </thead>\n",
       "  <tbody>\n",
       "    <tr>\n",
       "      <th>0</th>\n",
       "      <td>미국</td>\n",
       "      <td>4665002</td>\n",
       "      <td>1417.5</td>\n",
       "      <td>154834</td>\n",
       "      <td>47.0</td>\n",
       "      <td>3.3</td>\n",
       "    </tr>\n",
       "    <tr>\n",
       "      <th>1</th>\n",
       "      <td>브라질</td>\n",
       "      <td>2733677</td>\n",
       "      <td>1287.0</td>\n",
       "      <td>94104</td>\n",
       "      <td>44.3</td>\n",
       "      <td>3.4</td>\n",
       "    </tr>\n",
       "    <tr>\n",
       "      <th>5</th>\n",
       "      <td>멕시코</td>\n",
       "      <td>439046</td>\n",
       "      <td>331.9</td>\n",
       "      <td>47746</td>\n",
       "      <td>36.1</td>\n",
       "      <td>10.9</td>\n",
       "    </tr>\n",
       "    <tr>\n",
       "      <th>9</th>\n",
       "      <td>영국</td>\n",
       "      <td>304695</td>\n",
       "      <td>454.8</td>\n",
       "      <td>46201</td>\n",
       "      <td>69.0</td>\n",
       "      <td>15.2</td>\n",
       "    </tr>\n",
       "    <tr>\n",
       "      <th>2</th>\n",
       "      <td>인도</td>\n",
       "      <td>1750723</td>\n",
       "      <td>127.9</td>\n",
       "      <td>37364</td>\n",
       "      <td>2.7</td>\n",
       "      <td>2.1</td>\n",
       "    </tr>\n",
       "  </tbody>\n",
       "</table>\n",
       "</div>"
      ],
      "text/plain": [
       "    국가    감염자인원  감염자 발생률  사망자 인원  사망자 발생률   사망률\n",
       "0   미국  4665002   1417.5  154834     47.0   3.3\n",
       "1  브라질  2733677   1287.0   94104     44.3   3.4\n",
       "5  멕시코   439046    331.9   47746     36.1  10.9\n",
       "9   영국   304695    454.8   46201     69.0  15.2\n",
       "2   인도  1750723    127.9   37364      2.7   2.1"
      ]
     },
     "execution_count": 13,
     "metadata": {},
     "output_type": "execute_result"
    }
   ],
   "source": [
    "df1.sort_values(by='사망자 인원',ascending=False).head()\n",
    "#엑셀은 정렬이 된다.(문자열(콤마에문제생기지않는다.))"
   ]
  },
  {
   "cell_type": "code",
   "execution_count": 39,
   "metadata": {},
   "outputs": [],
   "source": [
    "df['사망자 인원']=df['사망자 인원'].str.replace(',','').astype('int64')"
   ]
  },
  {
   "cell_type": "code",
   "execution_count": 40,
   "metadata": {},
   "outputs": [
    {
     "data": {
      "text/html": [
       "<div>\n",
       "<style scoped>\n",
       "    .dataframe tbody tr th:only-of-type {\n",
       "        vertical-align: middle;\n",
       "    }\n",
       "\n",
       "    .dataframe tbody tr th {\n",
       "        vertical-align: top;\n",
       "    }\n",
       "\n",
       "    .dataframe thead th {\n",
       "        text-align: right;\n",
       "    }\n",
       "</style>\n",
       "<table border=\"1\" class=\"dataframe\">\n",
       "  <thead>\n",
       "    <tr style=\"text-align: right;\">\n",
       "      <th></th>\n",
       "      <th>감염자 발생률</th>\n",
       "      <th>사망자 인원</th>\n",
       "      <th>사망자 발생률</th>\n",
       "      <th>사망률</th>\n",
       "    </tr>\n",
       "    <tr>\n",
       "      <th>감염자인원</th>\n",
       "      <th></th>\n",
       "      <th></th>\n",
       "      <th></th>\n",
       "      <th></th>\n",
       "    </tr>\n",
       "  </thead>\n",
       "  <tbody>\n",
       "    <tr>\n",
       "      <th>4665002</th>\n",
       "      <td>1417.5</td>\n",
       "      <td>154834</td>\n",
       "      <td>47.0</td>\n",
       "      <td>3.3</td>\n",
       "    </tr>\n",
       "    <tr>\n",
       "      <th>2733677</th>\n",
       "      <td>1287.0</td>\n",
       "      <td>94104</td>\n",
       "      <td>44.3</td>\n",
       "      <td>3.4</td>\n",
       "    </tr>\n",
       "    <tr>\n",
       "      <th>1750723</th>\n",
       "      <td>127.9</td>\n",
       "      <td>37364</td>\n",
       "      <td>2.7</td>\n",
       "      <td>2.1</td>\n",
       "    </tr>\n",
       "    <tr>\n",
       "      <th>850870</th>\n",
       "      <td>591.3</td>\n",
       "      <td>14128</td>\n",
       "      <td>9.8</td>\n",
       "      <td>1.7</td>\n",
       "    </tr>\n",
       "    <tr>\n",
       "      <th>503290</th>\n",
       "      <td>866.2</td>\n",
       "      <td>8153</td>\n",
       "      <td>14.0</td>\n",
       "      <td>1.6</td>\n",
       "    </tr>\n",
       "  </tbody>\n",
       "</table>\n",
       "</div>"
      ],
      "text/plain": [
       "         감염자 발생률  사망자 인원  사망자 발생률  사망률\n",
       "감염자인원                                 \n",
       "4665002   1417.5  154834     47.0  3.3\n",
       "2733677   1287.0   94104     44.3  3.4\n",
       "1750723    127.9   37364      2.7  2.1\n",
       "850870     591.3   14128      9.8  1.7\n",
       "503290     866.2    8153     14.0  1.6"
      ]
     },
     "execution_count": 40,
     "metadata": {},
     "output_type": "execute_result"
    }
   ],
   "source": [
    "df.head()"
   ]
  },
  {
   "cell_type": "code",
   "execution_count": 42,
   "metadata": {},
   "outputs": [
    {
     "data": {
      "text/plain": [
       "감염자 발생률    float64\n",
       "사망자 인원       int64\n",
       "사망자 발생률    float64\n",
       "사망률        float64\n",
       "dtype: object"
      ]
     },
     "execution_count": 42,
     "metadata": {},
     "output_type": "execute_result"
    }
   ],
   "source": [
    "df.dtypes"
   ]
  },
  {
   "cell_type": "code",
   "execution_count": null,
   "metadata": {},
   "outputs": [],
   "source": []
  }
 ],
 "metadata": {
  "kernelspec": {
   "display_name": "Python 3",
   "language": "python",
   "name": "python3"
  },
  "language_info": {
   "codemirror_mode": {
    "name": "ipython",
    "version": 3
   },
   "file_extension": ".py",
   "mimetype": "text/x-python",
   "name": "python",
   "nbconvert_exporter": "python",
   "pygments_lexer": "ipython3",
   "version": "3.7.7"
  }
 },
 "nbformat": 4,
 "nbformat_minor": 4
}
