{
 "cells": [
  {
   "cell_type": "markdown",
   "metadata": {},
   "source": [
    "### 정보가공하기"
   ]
  },
  {
   "cell_type": "code",
   "execution_count": 1,
   "metadata": {},
   "outputs": [],
   "source": [
    "import pandas  as pd\n",
    "import numpy as np"
   ]
  },
  {
   "cell_type": "code",
   "execution_count": 2,
   "metadata": {},
   "outputs": [],
   "source": [
    "baseball = pd.read_csv(\"2019_baseball_hitter20.csv\",encoding='utf-8')"
   ]
  },
  {
   "cell_type": "code",
   "execution_count": 3,
   "metadata": {},
   "outputs": [],
   "source": [
    "data1 = baseball.sort_values(by='홈런',ascending=False)"
   ]
  },
  {
   "cell_type": "code",
   "execution_count": 4,
   "metadata": {},
   "outputs": [],
   "source": [
    "del data1['순번']"
   ]
  },
  {
   "cell_type": "code",
   "execution_count": 5,
   "metadata": {},
   "outputs": [
    {
     "data": {
      "text/html": [
       "<div>\n",
       "<style scoped>\n",
       "    .dataframe tbody tr th:only-of-type {\n",
       "        vertical-align: middle;\n",
       "    }\n",
       "\n",
       "    .dataframe tbody tr th {\n",
       "        vertical-align: top;\n",
       "    }\n",
       "\n",
       "    .dataframe thead th {\n",
       "        text-align: right;\n",
       "    }\n",
       "</style>\n",
       "<table border=\"1\" class=\"dataframe\">\n",
       "  <thead>\n",
       "    <tr style=\"text-align: right;\">\n",
       "      <th></th>\n",
       "      <th>이름</th>\n",
       "      <th>팀명</th>\n",
       "      <th>타율</th>\n",
       "      <th>경기수</th>\n",
       "      <th>타수</th>\n",
       "      <th>안타</th>\n",
       "      <th>2루타</th>\n",
       "      <th>3루타</th>\n",
       "      <th>홈런</th>\n",
       "      <th>타점</th>\n",
       "      <th>득점</th>\n",
       "      <th>도루</th>\n",
       "      <th>볼넷</th>\n",
       "      <th>삼진</th>\n",
       "      <th>출루율</th>\n",
       "      <th>장타율</th>\n",
       "    </tr>\n",
       "  </thead>\n",
       "  <tbody>\n",
       "    <tr>\n",
       "      <th>0</th>\n",
       "      <td>샌즈</td>\n",
       "      <td>키움</td>\n",
       "      <td>0.305</td>\n",
       "      <td>139</td>\n",
       "      <td>525</td>\n",
       "      <td>160</td>\n",
       "      <td>39</td>\n",
       "      <td>1</td>\n",
       "      <td>28</td>\n",
       "      <td>113</td>\n",
       "      <td>100</td>\n",
       "      <td>1</td>\n",
       "      <td>77</td>\n",
       "      <td>101</td>\n",
       "      <td>0.396</td>\n",
       "      <td>0.543</td>\n",
       "    </tr>\n",
       "    <tr>\n",
       "      <th>1</th>\n",
       "      <td>로하스</td>\n",
       "      <td>KT</td>\n",
       "      <td>0.322</td>\n",
       "      <td>142</td>\n",
       "      <td>521</td>\n",
       "      <td>168</td>\n",
       "      <td>30</td>\n",
       "      <td>3</td>\n",
       "      <td>24</td>\n",
       "      <td>104</td>\n",
       "      <td>68</td>\n",
       "      <td>4</td>\n",
       "      <td>49</td>\n",
       "      <td>120</td>\n",
       "      <td>0.381</td>\n",
       "      <td>0.530</td>\n",
       "    </tr>\n",
       "    <tr>\n",
       "      <th>2</th>\n",
       "      <td>전준우</td>\n",
       "      <td>롯데</td>\n",
       "      <td>0.301</td>\n",
       "      <td>141</td>\n",
       "      <td>545</td>\n",
       "      <td>164</td>\n",
       "      <td>30</td>\n",
       "      <td>1</td>\n",
       "      <td>22</td>\n",
       "      <td>83</td>\n",
       "      <td>85</td>\n",
       "      <td>8</td>\n",
       "      <td>46</td>\n",
       "      <td>71</td>\n",
       "      <td>0.359</td>\n",
       "      <td>0.481</td>\n",
       "    </tr>\n",
       "    <tr>\n",
       "      <th>3</th>\n",
       "      <td>양의지</td>\n",
       "      <td>NC</td>\n",
       "      <td>0.354</td>\n",
       "      <td>118</td>\n",
       "      <td>390</td>\n",
       "      <td>138</td>\n",
       "      <td>26</td>\n",
       "      <td>0</td>\n",
       "      <td>20</td>\n",
       "      <td>68</td>\n",
       "      <td>61</td>\n",
       "      <td>4</td>\n",
       "      <td>48</td>\n",
       "      <td>43</td>\n",
       "      <td>0.438</td>\n",
       "      <td>0.574</td>\n",
       "    </tr>\n",
       "    <tr>\n",
       "      <th>4</th>\n",
       "      <td>김하성</td>\n",
       "      <td>키움</td>\n",
       "      <td>0.307</td>\n",
       "      <td>139</td>\n",
       "      <td>540</td>\n",
       "      <td>166</td>\n",
       "      <td>38</td>\n",
       "      <td>2</td>\n",
       "      <td>19</td>\n",
       "      <td>104</td>\n",
       "      <td>112</td>\n",
       "      <td>33</td>\n",
       "      <td>70</td>\n",
       "      <td>80</td>\n",
       "      <td>0.389</td>\n",
       "      <td>0.491</td>\n",
       "    </tr>\n",
       "  </tbody>\n",
       "</table>\n",
       "</div>"
      ],
      "text/plain": [
       "     이름  팀명     타율  경기수   타수   안타  2루타  3루타  홈런   타점   득점  도루  볼넷   삼진    출루율  \\\n",
       "0    샌즈  키움  0.305  139  525  160   39    1  28  113  100   1  77  101  0.396   \n",
       "1   로하스  KT  0.322  142  521  168   30    3  24  104   68   4  49  120  0.381   \n",
       "2   전준우  롯데  0.301  141  545  164   30    1  22   83   85   8  46   71  0.359   \n",
       "3   양의지  NC  0.354  118  390  138   26    0  20   68   61   4  48   43  0.438   \n",
       "4   김하성  키움  0.307  139  540  166   38    2  19  104  112  33  70   80  0.389   \n",
       "\n",
       "     장타율  \n",
       "0  0.543  \n",
       "1  0.530  \n",
       "2  0.481  \n",
       "3  0.574  \n",
       "4  0.491  "
      ]
     },
     "execution_count": 5,
     "metadata": {},
     "output_type": "execute_result"
    }
   ],
   "source": [
    "data1.reset_index(drop=True,inplace=False).head()"
   ]
  },
  {
   "cell_type": "code",
   "execution_count": 6,
   "metadata": {},
   "outputs": [
    {
     "data": {
      "text/html": [
       "<div>\n",
       "<style scoped>\n",
       "    .dataframe tbody tr th:only-of-type {\n",
       "        vertical-align: middle;\n",
       "    }\n",
       "\n",
       "    .dataframe tbody tr th {\n",
       "        vertical-align: top;\n",
       "    }\n",
       "\n",
       "    .dataframe thead th {\n",
       "        text-align: right;\n",
       "    }\n",
       "</style>\n",
       "<table border=\"1\" class=\"dataframe\">\n",
       "  <thead>\n",
       "    <tr style=\"text-align: right;\">\n",
       "      <th></th>\n",
       "      <th>이름</th>\n",
       "      <th>팀명</th>\n",
       "      <th>타율</th>\n",
       "      <th>경기수</th>\n",
       "      <th>타수</th>\n",
       "      <th>안타</th>\n",
       "      <th>2루타</th>\n",
       "      <th>3루타</th>\n",
       "      <th>홈런</th>\n",
       "      <th>타점</th>\n",
       "      <th>득점</th>\n",
       "      <th>도루</th>\n",
       "      <th>볼넷</th>\n",
       "      <th>삼진</th>\n",
       "      <th>출루율</th>\n",
       "      <th>장타율</th>\n",
       "    </tr>\n",
       "  </thead>\n",
       "  <tbody>\n",
       "    <tr>\n",
       "      <th>13</th>\n",
       "      <td>샌즈</td>\n",
       "      <td>키움</td>\n",
       "      <td>0.305</td>\n",
       "      <td>139</td>\n",
       "      <td>525</td>\n",
       "      <td>160</td>\n",
       "      <td>39</td>\n",
       "      <td>1</td>\n",
       "      <td>28</td>\n",
       "      <td>113</td>\n",
       "      <td>100</td>\n",
       "      <td>1</td>\n",
       "      <td>77</td>\n",
       "      <td>101</td>\n",
       "      <td>0.396</td>\n",
       "      <td>0.543</td>\n",
       "    </tr>\n",
       "    <tr>\n",
       "      <th>6</th>\n",
       "      <td>로하스</td>\n",
       "      <td>KT</td>\n",
       "      <td>0.322</td>\n",
       "      <td>142</td>\n",
       "      <td>521</td>\n",
       "      <td>168</td>\n",
       "      <td>30</td>\n",
       "      <td>3</td>\n",
       "      <td>24</td>\n",
       "      <td>104</td>\n",
       "      <td>68</td>\n",
       "      <td>4</td>\n",
       "      <td>49</td>\n",
       "      <td>120</td>\n",
       "      <td>0.381</td>\n",
       "      <td>0.530</td>\n",
       "    </tr>\n",
       "    <tr>\n",
       "      <th>15</th>\n",
       "      <td>전준우</td>\n",
       "      <td>롯데</td>\n",
       "      <td>0.301</td>\n",
       "      <td>141</td>\n",
       "      <td>545</td>\n",
       "      <td>164</td>\n",
       "      <td>30</td>\n",
       "      <td>1</td>\n",
       "      <td>22</td>\n",
       "      <td>83</td>\n",
       "      <td>85</td>\n",
       "      <td>8</td>\n",
       "      <td>46</td>\n",
       "      <td>71</td>\n",
       "      <td>0.359</td>\n",
       "      <td>0.481</td>\n",
       "    </tr>\n",
       "    <tr>\n",
       "      <th>0</th>\n",
       "      <td>양의지</td>\n",
       "      <td>NC</td>\n",
       "      <td>0.354</td>\n",
       "      <td>118</td>\n",
       "      <td>390</td>\n",
       "      <td>138</td>\n",
       "      <td>26</td>\n",
       "      <td>0</td>\n",
       "      <td>20</td>\n",
       "      <td>68</td>\n",
       "      <td>61</td>\n",
       "      <td>4</td>\n",
       "      <td>48</td>\n",
       "      <td>43</td>\n",
       "      <td>0.438</td>\n",
       "      <td>0.574</td>\n",
       "    </tr>\n",
       "    <tr>\n",
       "      <th>11</th>\n",
       "      <td>김하성</td>\n",
       "      <td>키움</td>\n",
       "      <td>0.307</td>\n",
       "      <td>139</td>\n",
       "      <td>540</td>\n",
       "      <td>166</td>\n",
       "      <td>38</td>\n",
       "      <td>2</td>\n",
       "      <td>19</td>\n",
       "      <td>104</td>\n",
       "      <td>112</td>\n",
       "      <td>33</td>\n",
       "      <td>70</td>\n",
       "      <td>80</td>\n",
       "      <td>0.389</td>\n",
       "      <td>0.491</td>\n",
       "    </tr>\n",
       "    <tr>\n",
       "      <th>17</th>\n",
       "      <td>최형우</td>\n",
       "      <td>KIA</td>\n",
       "      <td>0.300</td>\n",
       "      <td>136</td>\n",
       "      <td>456</td>\n",
       "      <td>137</td>\n",
       "      <td>31</td>\n",
       "      <td>1</td>\n",
       "      <td>17</td>\n",
       "      <td>86</td>\n",
       "      <td>65</td>\n",
       "      <td>0</td>\n",
       "      <td>85</td>\n",
       "      <td>77</td>\n",
       "      <td>0.413</td>\n",
       "      <td>0.485</td>\n",
       "    </tr>\n",
       "    <tr>\n",
       "      <th>1</th>\n",
       "      <td>페르난데스</td>\n",
       "      <td>두산</td>\n",
       "      <td>0.344</td>\n",
       "      <td>144</td>\n",
       "      <td>572</td>\n",
       "      <td>197</td>\n",
       "      <td>34</td>\n",
       "      <td>0</td>\n",
       "      <td>15</td>\n",
       "      <td>88</td>\n",
       "      <td>87</td>\n",
       "      <td>1</td>\n",
       "      <td>61</td>\n",
       "      <td>54</td>\n",
       "      <td>0.409</td>\n",
       "      <td>0.483</td>\n",
       "    </tr>\n",
       "    <tr>\n",
       "      <th>8</th>\n",
       "      <td>유한준</td>\n",
       "      <td>KT</td>\n",
       "      <td>0.317</td>\n",
       "      <td>139</td>\n",
       "      <td>501</td>\n",
       "      <td>159</td>\n",
       "      <td>19</td>\n",
       "      <td>1</td>\n",
       "      <td>14</td>\n",
       "      <td>86</td>\n",
       "      <td>61</td>\n",
       "      <td>3</td>\n",
       "      <td>52</td>\n",
       "      <td>61</td>\n",
       "      <td>0.383</td>\n",
       "      <td>0.443</td>\n",
       "    </tr>\n",
       "    <tr>\n",
       "      <th>4</th>\n",
       "      <td>강백호</td>\n",
       "      <td>KT</td>\n",
       "      <td>0.336</td>\n",
       "      <td>116</td>\n",
       "      <td>438</td>\n",
       "      <td>147</td>\n",
       "      <td>29</td>\n",
       "      <td>1</td>\n",
       "      <td>13</td>\n",
       "      <td>65</td>\n",
       "      <td>72</td>\n",
       "      <td>9</td>\n",
       "      <td>61</td>\n",
       "      <td>87</td>\n",
       "      <td>0.416</td>\n",
       "      <td>0.495</td>\n",
       "    </tr>\n",
       "    <tr>\n",
       "      <th>9</th>\n",
       "      <td>채은성</td>\n",
       "      <td>LG</td>\n",
       "      <td>0.315</td>\n",
       "      <td>128</td>\n",
       "      <td>470</td>\n",
       "      <td>148</td>\n",
       "      <td>18</td>\n",
       "      <td>1</td>\n",
       "      <td>12</td>\n",
       "      <td>72</td>\n",
       "      <td>59</td>\n",
       "      <td>2</td>\n",
       "      <td>24</td>\n",
       "      <td>67</td>\n",
       "      <td>0.358</td>\n",
       "      <td>0.434</td>\n",
       "    </tr>\n",
       "    <tr>\n",
       "      <th>14</th>\n",
       "      <td>김현수</td>\n",
       "      <td>LG</td>\n",
       "      <td>0.304</td>\n",
       "      <td>140</td>\n",
       "      <td>526</td>\n",
       "      <td>160</td>\n",
       "      <td>37</td>\n",
       "      <td>0</td>\n",
       "      <td>11</td>\n",
       "      <td>82</td>\n",
       "      <td>75</td>\n",
       "      <td>3</td>\n",
       "      <td>54</td>\n",
       "      <td>52</td>\n",
       "      <td>0.370</td>\n",
       "      <td>0.437</td>\n",
       "    </tr>\n",
       "    <tr>\n",
       "      <th>19</th>\n",
       "      <td>손아섭</td>\n",
       "      <td>롯데</td>\n",
       "      <td>0.295</td>\n",
       "      <td>134</td>\n",
       "      <td>512</td>\n",
       "      <td>151</td>\n",
       "      <td>22</td>\n",
       "      <td>1</td>\n",
       "      <td>10</td>\n",
       "      <td>63</td>\n",
       "      <td>78</td>\n",
       "      <td>13</td>\n",
       "      <td>52</td>\n",
       "      <td>92</td>\n",
       "      <td>0.360</td>\n",
       "      <td>0.400</td>\n",
       "    </tr>\n",
       "    <tr>\n",
       "      <th>7</th>\n",
       "      <td>박건우</td>\n",
       "      <td>두산</td>\n",
       "      <td>0.319</td>\n",
       "      <td>127</td>\n",
       "      <td>458</td>\n",
       "      <td>146</td>\n",
       "      <td>27</td>\n",
       "      <td>5</td>\n",
       "      <td>10</td>\n",
       "      <td>64</td>\n",
       "      <td>83</td>\n",
       "      <td>12</td>\n",
       "      <td>60</td>\n",
       "      <td>57</td>\n",
       "      <td>0.397</td>\n",
       "      <td>0.465</td>\n",
       "    </tr>\n",
       "    <tr>\n",
       "      <th>12</th>\n",
       "      <td>김태균</td>\n",
       "      <td>한화</td>\n",
       "      <td>0.305</td>\n",
       "      <td>127</td>\n",
       "      <td>433</td>\n",
       "      <td>132</td>\n",
       "      <td>21</td>\n",
       "      <td>0</td>\n",
       "      <td>6</td>\n",
       "      <td>62</td>\n",
       "      <td>47</td>\n",
       "      <td>3</td>\n",
       "      <td>54</td>\n",
       "      <td>94</td>\n",
       "      <td>0.382</td>\n",
       "      <td>0.395</td>\n",
       "    </tr>\n",
       "    <tr>\n",
       "      <th>3</th>\n",
       "      <td>이정후</td>\n",
       "      <td>키움</td>\n",
       "      <td>0.336</td>\n",
       "      <td>140</td>\n",
       "      <td>574</td>\n",
       "      <td>193</td>\n",
       "      <td>31</td>\n",
       "      <td>10</td>\n",
       "      <td>6</td>\n",
       "      <td>68</td>\n",
       "      <td>91</td>\n",
       "      <td>13</td>\n",
       "      <td>45</td>\n",
       "      <td>40</td>\n",
       "      <td>0.386</td>\n",
       "      <td>0.456</td>\n",
       "    </tr>\n",
       "    <tr>\n",
       "      <th>18</th>\n",
       "      <td>김헌곤</td>\n",
       "      <td>삼성</td>\n",
       "      <td>0.297</td>\n",
       "      <td>114</td>\n",
       "      <td>411</td>\n",
       "      <td>122</td>\n",
       "      <td>20</td>\n",
       "      <td>1</td>\n",
       "      <td>5</td>\n",
       "      <td>46</td>\n",
       "      <td>57</td>\n",
       "      <td>10</td>\n",
       "      <td>37</td>\n",
       "      <td>41</td>\n",
       "      <td>0.361</td>\n",
       "      <td>0.387</td>\n",
       "    </tr>\n",
       "    <tr>\n",
       "      <th>5</th>\n",
       "      <td>고종욱</td>\n",
       "      <td>SK</td>\n",
       "      <td>0.323</td>\n",
       "      <td>137</td>\n",
       "      <td>492</td>\n",
       "      <td>159</td>\n",
       "      <td>25</td>\n",
       "      <td>7</td>\n",
       "      <td>3</td>\n",
       "      <td>56</td>\n",
       "      <td>76</td>\n",
       "      <td>31</td>\n",
       "      <td>18</td>\n",
       "      <td>89</td>\n",
       "      <td>0.347</td>\n",
       "      <td>0.421</td>\n",
       "    </tr>\n",
       "    <tr>\n",
       "      <th>16</th>\n",
       "      <td>서건창</td>\n",
       "      <td>키움</td>\n",
       "      <td>0.300</td>\n",
       "      <td>113</td>\n",
       "      <td>426</td>\n",
       "      <td>128</td>\n",
       "      <td>23</td>\n",
       "      <td>3</td>\n",
       "      <td>2</td>\n",
       "      <td>41</td>\n",
       "      <td>67</td>\n",
       "      <td>17</td>\n",
       "      <td>49</td>\n",
       "      <td>50</td>\n",
       "      <td>0.373</td>\n",
       "      <td>0.383</td>\n",
       "    </tr>\n",
       "    <tr>\n",
       "      <th>10</th>\n",
       "      <td>이천웅</td>\n",
       "      <td>LG</td>\n",
       "      <td>0.308</td>\n",
       "      <td>138</td>\n",
       "      <td>546</td>\n",
       "      <td>168</td>\n",
       "      <td>24</td>\n",
       "      <td>3</td>\n",
       "      <td>2</td>\n",
       "      <td>48</td>\n",
       "      <td>88</td>\n",
       "      <td>21</td>\n",
       "      <td>57</td>\n",
       "      <td>82</td>\n",
       "      <td>0.378</td>\n",
       "      <td>0.374</td>\n",
       "    </tr>\n",
       "    <tr>\n",
       "      <th>2</th>\n",
       "      <td>박민우</td>\n",
       "      <td>NC</td>\n",
       "      <td>0.344</td>\n",
       "      <td>125</td>\n",
       "      <td>468</td>\n",
       "      <td>161</td>\n",
       "      <td>23</td>\n",
       "      <td>8</td>\n",
       "      <td>1</td>\n",
       "      <td>45</td>\n",
       "      <td>89</td>\n",
       "      <td>18</td>\n",
       "      <td>41</td>\n",
       "      <td>40</td>\n",
       "      <td>0.403</td>\n",
       "      <td>0.434</td>\n",
       "    </tr>\n",
       "  </tbody>\n",
       "</table>\n",
       "</div>"
      ],
      "text/plain": [
       "       이름   팀명     타율  경기수   타수   안타  2루타  3루타  홈런   타점   득점  도루  볼넷   삼진  \\\n",
       "13     샌즈   키움  0.305  139  525  160   39    1  28  113  100   1  77  101   \n",
       "6     로하스   KT  0.322  142  521  168   30    3  24  104   68   4  49  120   \n",
       "15    전준우   롯데  0.301  141  545  164   30    1  22   83   85   8  46   71   \n",
       "0     양의지   NC  0.354  118  390  138   26    0  20   68   61   4  48   43   \n",
       "11    김하성   키움  0.307  139  540  166   38    2  19  104  112  33  70   80   \n",
       "17    최형우  KIA  0.300  136  456  137   31    1  17   86   65   0  85   77   \n",
       "1   페르난데스   두산  0.344  144  572  197   34    0  15   88   87   1  61   54   \n",
       "8     유한준   KT  0.317  139  501  159   19    1  14   86   61   3  52   61   \n",
       "4     강백호   KT  0.336  116  438  147   29    1  13   65   72   9  61   87   \n",
       "9     채은성   LG  0.315  128  470  148   18    1  12   72   59   2  24   67   \n",
       "14    김현수   LG  0.304  140  526  160   37    0  11   82   75   3  54   52   \n",
       "19    손아섭   롯데  0.295  134  512  151   22    1  10   63   78  13  52   92   \n",
       "7     박건우   두산  0.319  127  458  146   27    5  10   64   83  12  60   57   \n",
       "12    김태균   한화  0.305  127  433  132   21    0   6   62   47   3  54   94   \n",
       "3     이정후   키움  0.336  140  574  193   31   10   6   68   91  13  45   40   \n",
       "18    김헌곤   삼성  0.297  114  411  122   20    1   5   46   57  10  37   41   \n",
       "5     고종욱   SK  0.323  137  492  159   25    7   3   56   76  31  18   89   \n",
       "16    서건창   키움  0.300  113  426  128   23    3   2   41   67  17  49   50   \n",
       "10    이천웅   LG  0.308  138  546  168   24    3   2   48   88  21  57   82   \n",
       "2     박민우   NC  0.344  125  468  161   23    8   1   45   89  18  41   40   \n",
       "\n",
       "      출루율    장타율  \n",
       "13  0.396  0.543  \n",
       "6   0.381  0.530  \n",
       "15  0.359  0.481  \n",
       "0   0.438  0.574  \n",
       "11  0.389  0.491  \n",
       "17  0.413  0.485  \n",
       "1   0.409  0.483  \n",
       "8   0.383  0.443  \n",
       "4   0.416  0.495  \n",
       "9   0.358  0.434  \n",
       "14  0.370  0.437  \n",
       "19  0.360  0.400  \n",
       "7   0.397  0.465  \n",
       "12  0.382  0.395  \n",
       "3   0.386  0.456  \n",
       "18  0.361  0.387  \n",
       "5   0.347  0.421  \n",
       "16  0.373  0.383  \n",
       "10  0.378  0.374  \n",
       "2   0.403  0.434  "
      ]
     },
     "execution_count": 6,
     "metadata": {},
     "output_type": "execute_result"
    }
   ],
   "source": [
    "data1"
   ]
  },
  {
   "cell_type": "markdown",
   "metadata": {},
   "source": [
    "### chart 그리기"
   ]
  },
  {
   "cell_type": "code",
   "execution_count": 7,
   "metadata": {},
   "outputs": [],
   "source": [
    "import matplotlib.pyplot as plt"
   ]
  },
  {
   "cell_type": "code",
   "execution_count": 8,
   "metadata": {},
   "outputs": [
    {
     "data": {
      "text/plain": [
       "13       샌즈\n",
       "6       로하스\n",
       "15      전준우\n",
       "0       양의지\n",
       "11      김하성\n",
       "17      최형우\n",
       "1     페르난데스\n",
       "8       유한준\n",
       "Name: 이름, dtype: object"
      ]
     },
     "execution_count": 8,
     "metadata": {},
     "output_type": "execute_result"
    }
   ],
   "source": [
    "data1.이름.head(8)"
   ]
  },
  {
   "cell_type": "code",
   "execution_count": 9,
   "metadata": {},
   "outputs": [
    {
     "data": {
      "text/html": [
       "<div>\n",
       "<style scoped>\n",
       "    .dataframe tbody tr th:only-of-type {\n",
       "        vertical-align: middle;\n",
       "    }\n",
       "\n",
       "    .dataframe tbody tr th {\n",
       "        vertical-align: top;\n",
       "    }\n",
       "\n",
       "    .dataframe thead th {\n",
       "        text-align: right;\n",
       "    }\n",
       "</style>\n",
       "<table border=\"1\" class=\"dataframe\">\n",
       "  <thead>\n",
       "    <tr style=\"text-align: right;\">\n",
       "      <th></th>\n",
       "      <th>이름</th>\n",
       "      <th>타수</th>\n",
       "    </tr>\n",
       "  </thead>\n",
       "  <tbody>\n",
       "    <tr>\n",
       "      <th>13</th>\n",
       "      <td>샌즈</td>\n",
       "      <td>525</td>\n",
       "    </tr>\n",
       "    <tr>\n",
       "      <th>6</th>\n",
       "      <td>로하스</td>\n",
       "      <td>521</td>\n",
       "    </tr>\n",
       "    <tr>\n",
       "      <th>15</th>\n",
       "      <td>전준우</td>\n",
       "      <td>545</td>\n",
       "    </tr>\n",
       "    <tr>\n",
       "      <th>0</th>\n",
       "      <td>양의지</td>\n",
       "      <td>390</td>\n",
       "    </tr>\n",
       "    <tr>\n",
       "      <th>11</th>\n",
       "      <td>김하성</td>\n",
       "      <td>540</td>\n",
       "    </tr>\n",
       "  </tbody>\n",
       "</table>\n",
       "</div>"
      ],
      "text/plain": [
       "      이름   타수\n",
       "13    샌즈  525\n",
       "6    로하스  521\n",
       "15   전준우  545\n",
       "0    양의지  390\n",
       "11   김하성  540"
      ]
     },
     "execution_count": 9,
     "metadata": {},
     "output_type": "execute_result"
    }
   ],
   "source": [
    "data1.iloc[:,[0,4]].head()"
   ]
  },
  {
   "cell_type": "code",
   "execution_count": 10,
   "metadata": {},
   "outputs": [
    {
     "name": "stdout",
     "output_type": "stream",
     "text": [
      "[160, 168, 164, 138, 166, 137, 197, 159, 147, 148, 160, 151, 146, 132, 193, 122, 159, 128, 168, 161]\n",
      "<class 'list'>\n"
     ]
    }
   ],
   "source": [
    "H = data1.안타.tolist() #array형태로 바꿔줌\n",
    "print(H)\n",
    "print(type(H))"
   ]
  },
  {
   "cell_type": "code",
   "execution_count": 11,
   "metadata": {},
   "outputs": [
    {
     "name": "stdout",
     "output_type": "stream",
     "text": [
      "['\\xa0샌즈', '\\xa0로하스', '\\xa0전준우', '양의지', '\\xa0김하성', '\\xa0최형우', '페르난데스', '\\xa0유한준', '\\xa0강백호', '\\xa0채은성', '\\xa0김현수', '\\xa0손아섭', '\\xa0박건우', '\\xa0김태균', '\\xa0이정후', '\\xa0김헌곤', '\\xa0고종욱', '\\xa0서건창', '\\xa0이천웅', '\\xa0박민우']\n"
     ]
    }
   ],
   "source": [
    "name = data1.이름.tolist() #array형태로 바꿔줌\n",
    "print(name)"
   ]
  },
  {
   "cell_type": "code",
   "execution_count": 15,
   "metadata": {},
   "outputs": [],
   "source": [
    "name2=list()\n",
    "\n",
    "for i in name:\n",
    "    name2.append(i.strip())\n",
    "#name2"
   ]
  },
  {
   "cell_type": "code",
   "execution_count": 16,
   "metadata": {},
   "outputs": [
    {
     "name": "stdout",
     "output_type": "stream",
     "text": [
      "['샌즈', '로하스', '전준우', '양의지', '김하성', '최형우', '페르난데스', '유한준', '강백호', '채은성', '김현수', '손아섭', '박건우', '김태균', '이정후', '김헌곤', '고종욱', '서건창', '이천웅', '박민우']\n"
     ]
    }
   ],
   "source": [
    "print(name2)"
   ]
  },
  {
   "cell_type": "code",
   "execution_count": 24,
   "metadata": {},
   "outputs": [
    {
     "data": {
      "text/plain": [
       "[28, 24, 22, 20, 19, 17, 15, 14, 13, 12, 11, 10, 10, 6, 6, 5, 3, 2, 2, 1]"
      ]
     },
     "execution_count": 24,
     "metadata": {},
     "output_type": "execute_result"
    }
   ],
   "source": [
    "hr = data1.홈런.tolist()\n",
    "hr"
   ]
  },
  {
   "cell_type": "markdown",
   "metadata": {},
   "source": [
    "### 한글폰트 사용"
   ]
  },
  {
   "cell_type": "code",
   "execution_count": 91,
   "metadata": {},
   "outputs": [],
   "source": [
    "import matplotlib.pyplot as plt\n",
    "import matplotlib.font_manager as fm\n",
    "import platform\n",
    "\n",
    "if platform.system() =='Windows':\n",
    "    font_path = 'C:/Windows/Fonts/gulim.ttc' #윈도우 굴림폰트\n",
    "elif platform.system() == 'Linux':    #우분투 18.04 테스트됨, 나눔폰트 설치 후\n",
    "    font_path = '/usr/share/fonts/truetype/nanum/NanumGothic.ttf'"
   ]
  },
  {
   "cell_type": "code",
   "execution_count": 92,
   "metadata": {},
   "outputs": [],
   "source": [
    "font_name = fm.FontProperties(fname=font_path).get_name()\n",
    "plt.rcParams['font.family'] = font_name\n",
    "plt.rcParams['font.size'] = 12"
   ]
  },
  {
   "cell_type": "code",
   "execution_count": 68,
   "metadata": {},
   "outputs": [
    {
     "data": {
      "image/png": "[encoded data removed]",
      "text/plain": [
       "<Figure size 1152x288 with 1 Axes>"
      ]
     },
     "metadata": {
      "needs_background": "light"
     },
     "output_type": "display_data"
    }
   ],
   "source": [
    "plt.figure(figsize=(16,4))\n",
    "plt.plot(name, hr)\n",
    "plt.show()"
   ]
  },
  {
   "cell_type": "code",
   "execution_count": 72,
   "metadata": {},
   "outputs": [
    {
     "data": {
      "image/png": "[encoded data removed]",
      "text/plain": [
       "<Figure size 504x216 with 1 Axes>"
      ]
     },
     "metadata": {
      "needs_background": "light"
     },
     "output_type": "display_data"
    }
   ],
   "source": [
    "plt.figure(figsize=(7,3))\n",
    "plt.plot(name, hr)\n",
    "plt.xticks(rotation=45)\n",
    "plt.show()"
   ]
  },
  {
   "cell_type": "code",
   "execution_count": 77,
   "metadata": {},
   "outputs": [
    {
     "data": {
      "image/png": "[encoded data removed]",
      "text/plain": [
       "<Figure size 504x216 with 1 Axes>"
      ]
     },
     "metadata": {
      "needs_background": "light"
     },
     "output_type": "display_data"
    }
   ],
   "source": [
    "plt.figure(figsize=(7,3))\n",
    "# plt.bar(name,hr)\n",
    "plt.bar(name,hr,color='#f06006')\n",
    "plt.xticks(rotation=45)\n",
    "plt.xlabel('선수이름')\n",
    "plt.ylabel('홈런수')\n",
    "plt.title('2018년도 홈런타자 순위')\n",
    "\n",
    "plt.show()"
   ]
  },
  {
   "cell_type": "code",
   "execution_count": 93,
   "metadata": {},
   "outputs": [
    {
     "data": {
      "image/png": "[encoded data removed]",
      "text/plain": [
       "<Figure size 576x648 with 1 Axes>"
      ]
     },
     "metadata": {},
     "output_type": "display_data"
    }
   ],
   "source": [
    "plt.figure(figsize=(8,9))\n",
    "#plt.pie(hr,labels=name)\n",
    "plt.pie(hr,labels=name,autopct='%1.2f',shadow=False,startangle=270)\n",
    "plt.show()"
   ]
  },
  {
   "cell_type": "markdown",
   "metadata": {},
   "source": [
    "### seaborn사용하기"
   ]
  },
  {
   "cell_type": "code",
   "execution_count": 85,
   "metadata": {},
   "outputs": [],
   "source": [
    "import seaborn as sns\n",
    "import matplotlib.pyplot as plt\n",
    "import matplotlib.font_manager as fm\n",
    "import platform\n",
    "if platform.system() =='Windows':\n",
    "    font_path = 'C:/Windows/Fonts/gulim.ttc' #윈도우 굴림폰트\n",
    "elif platform.system() == 'Linux':    #우분투 18.04 테스트됨, 나눔폰트 설치 후\n",
    "    font_path = '/usr/share/fonts/truetype/nanum/NanumGothic.ttf'"
   ]
  },
  {
   "cell_type": "code",
   "execution_count": 86,
   "metadata": {},
   "outputs": [],
   "source": [
    "sns.set(style=\"darkgrid\")"
   ]
  },
  {
   "cell_type": "code",
   "execution_count": 102,
   "metadata": {},
   "outputs": [
    {
     "data": {
      "image/png": "[encoded data removed]",
      "text/plain": [
       "<Figure size 504x216 with 1 Axes>"
      ]
     },
     "metadata": {},
     "output_type": "display_data"
    }
   ],
   "source": [
    "plt.figure(figsize=(7,3))\n",
    "chart = sns.barplot(x='이름',y='홈런',data=data1)\n",
    "#chart = get_xticklabels(chart.get_xticklabels(),rotation=45)\n",
    "plt.show()\n"
   ]
  },
  {
   "cell_type": "code",
   "execution_count": null,
   "metadata": {},
   "outputs": [],
   "source": []
  }
 ],
 "metadata": {
  "kernelspec": {
   "display_name": "Python 3",
   "language": "python",
   "name": "python3"
  },
  "language_info": {
   "codemirror_mode": {
    "name": "ipython",
    "version": 3
   },
   "file_extension": ".py",
   "mimetype": "text/x-python",
   "name": "python",
   "nbconvert_exporter": "python",
   "pygments_lexer": "ipython3",
   "version": "3.7.7"
  }
 },
 "nbformat": 4,
 "nbformat_minor": 4
}
