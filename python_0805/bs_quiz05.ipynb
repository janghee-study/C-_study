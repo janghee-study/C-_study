{
 "cells": [
  {
   "cell_type": "code",
   "execution_count": 12,
   "metadata": {},
   "outputs": [],
   "source": [
    "from bs4 import BeautifulSoup"
   ]
  },
  {
   "cell_type": "code",
   "execution_count": 13,
   "metadata": {},
   "outputs": [],
   "source": [
    "html = '''\n",
    "<html><body>\n",
    "    <ul>\n",
    "        <li><a href=\"http://www.naver.com\">naver</a></li>\n",
    "    </ul>\n",
    "</body></html>\n",
    "'''"
   ]
  },
  {
   "cell_type": "code",
   "execution_count": 41,
   "metadata": {},
   "outputs": [
    {
     "name": "stdout",
     "output_type": "stream",
     "text": [
      "저장되었습니다.\n"
     ]
    }
   ],
   "source": [
    "import urllib.request\n",
    "\n",
    "#HTML소스코드 가져오기\n",
    "url = \"https://sports.news.naver.com/kbaseball/record/index.nhn?category=kbo\"\n",
    "res = urllib.request.urlopen(url)\n",
    "data = res.read()\n",
    "\n",
    "#저장할 파일명\n",
    "savename = 'kbo.html'\n",
    "\n",
    "with open(savename,mode=\"wb\") as f:\n",
    "    f.write(data) \n",
    "    print('저장되었습니다.')"
   ]
  },
  {
   "cell_type": "code",
   "execution_count": 33,
   "metadata": {},
   "outputs": [],
   "source": [
    "soup = BeautifulSoup(data,\"html.parser\")"
   ]
  },
  {
   "cell_type": "code",
   "execution_count": 42,
   "metadata": {},
   "outputs": [
    {
     "data": {
      "text/plain": [
       "'기록/순위, 야구 : 네이버 스포츠'"
      ]
     },
     "execution_count": 42,
     "metadata": {},
     "output_type": "execute_result"
    }
   ],
   "source": [
    "title = soup.html.title\n",
    "title.string"
   ]
  },
  {
   "cell_type": "code",
   "execution_count": 58,
   "metadata": {},
   "outputs": [
    {
     "data": {
      "text/plain": [
       "[<span class=\"blind\">네이버</span>,\n",
       " <span class=\"blind\">스포츠</span>,\n",
       " <span class=\"blind\">뉴스</span>,\n",
       " <span class=\"blind\">날씨</span>,\n",
       " <span class=\"blind\">TV연예</span>,\n",
       " <span class=\"blind\">검색</span>,\n",
       " <span class=\"blind\">종목별 경기 날짜 및 시즌 선택</span>,\n",
       " <span class=\"blind\">선택된 시즌</span>,\n",
       " <span class=\"blind\">이전 시즌으로 이동</span>,\n",
       " <span class=\"blind\">다음 시즌으로 이동</span>,\n",
       " <span class=\"blind\">시즌으로 이동</span>,\n",
       " <span class=\"blind\">순위</span>,\n",
       " <span class=\"blind\">팀</span>,\n",
       " <span class=\"blind\">경기수</span>,\n",
       " <span class=\"blind\">승</span>,\n",
       " <span class=\"blind\">패</span>,\n",
       " <span class=\"blind\">무</span>,\n",
       " <span class=\"blind\" id=\"regularTeamRecordList_wra\">승률</span>,\n",
       " <span class=\"blind\" id=\"regularTeamRecordList_winDiff\">게임차</span>,\n",
       " <span class=\"blind\" id=\"regularTeamRecordList_streak\">연속</span>,\n",
       " <span class=\"blind\" id=\"regularTeamRecordList_bra\">출루율</span>,\n",
       " <span class=\"blind\" id=\"regularTeamRecordList_lra\">장타율</span>,\n",
       " <span class=\"blind\" id=\"regularTeamRecordList_recentResult\">최근 10경기</span>,\n",
       " <span class=\"blind\">선택됨</span>,\n",
       " <span class=\"blind\">순위</span>,\n",
       " <span class=\"blind\">선수</span>,\n",
       " <span class=\"blind\">평균자책점</span>,\n",
       " <span class=\"blind\">경기수</span>,\n",
       " <span class=\"blind\">이닝</span>,\n",
       " <span class=\"blind\">승</span>,\n",
       " <span class=\"blind\">패</span>,\n",
       " <span class=\"blind\">세이브</span>,\n",
       " <span class=\"blind\">홀드</span>,\n",
       " <span class=\"blind\">삼진</span>,\n",
       " <span class=\"blind\">피안타</span>,\n",
       " <span class=\"blind\">피홈런</span>,\n",
       " <span class=\"blind\">실점</span>,\n",
       " <span class=\"blind\">볼넷</span>,\n",
       " <span class=\"blind\">사구</span>,\n",
       " <span class=\"blind\">승률</span>,\n",
       " <span class=\"blind\">순위</span>,\n",
       " <span class=\"blind\">선수</span>,\n",
       " <span class=\"blind\">WHIP</span>,\n",
       " <span class=\"blind\">K/9</span>,\n",
       " <span class=\"blind\">BB/9</span>,\n",
       " <span class=\"blind\">K/BB</span>,\n",
       " <span class=\"blind\">K%</span>,\n",
       " <span class=\"blind\">BB%</span>,\n",
       " <span class=\"blind\">WPA</span>,\n",
       " <span class=\"blind\">WAR</span>,\n",
       " <span class=\"blind\">순위</span>,\n",
       " <span class=\"blind\">선수</span>,\n",
       " <span class=\"blind\">타율</span>,\n",
       " <span class=\"blind\">경기수</span>,\n",
       " <span class=\"blind\">타수</span>,\n",
       " <span class=\"blind\">안타</span>,\n",
       " <span class=\"blind\">2루타</span>,\n",
       " <span class=\"blind\">3루타</span>,\n",
       " <span class=\"blind\">홈런</span>,\n",
       " <span class=\"blind\">타점</span>,\n",
       " <span class=\"blind\">득점</span>,\n",
       " <span class=\"blind\">도루</span>,\n",
       " <span class=\"blind\">볼넷</span>,\n",
       " <span class=\"blind\">삼진</span>,\n",
       " <span class=\"blind\">출루율</span>,\n",
       " <span class=\"blind\">장타율</span>,\n",
       " <span class=\"blind\">순위</span>,\n",
       " <span class=\"blind\">선수</span>,\n",
       " <span class=\"blind\">OPS</span>,\n",
       " <span class=\"blind\">IsoP</span>,\n",
       " <span class=\"blind\">BABIP</span>,\n",
       " <span class=\"blind\">wOBA</span>,\n",
       " <span class=\"blind\">wRC+</span>,\n",
       " <span class=\"blind\">WPA</span>,\n",
       " <span class=\"blind\">WAR</span>]"
      ]
     },
     "execution_count": 58,
     "metadata": {},
     "output_type": "execute_result"
    }
   ],
   "source": [
    "soup.html.body.find_all(\"span\",class_='blind')"
   ]
  },
  {
   "cell_type": "code",
   "execution_count": 52,
   "metadata": {},
   "outputs": [
    {
     "data": {
      "text/plain": [
       "[<span id=\"team_NC\">NC</span>]"
      ]
     },
     "execution_count": 52,
     "metadata": {},
     "output_type": "execute_result"
    }
   ],
   "source": [
    "# soup.html.body.find_all(\"span\",id='team_NC')\n",
    "soup.html.body.find_all(\"span\",{\"id\":\"team_NC\"})"
   ]
  },
  {
   "cell_type": "code",
   "execution_count": 53,
   "metadata": {},
   "outputs": [
    {
     "data": {
      "text/plain": [
       "[]"
      ]
     },
     "execution_count": 53,
     "metadata": {},
     "output_type": "execute_result"
    }
   ],
   "source": [
    "soup.html.body.find_all(\"span\",{\"id\":\"team_\"})\n",
    "# 안나옴"
   ]
  },
  {
   "cell_type": "code",
   "execution_count": 63,
   "metadata": {},
   "outputs": [
    {
     "data": {
      "text/plain": [
       "[<span class=\"blind\" id=\"regularTeamRecordList_wra\">승률</span>,\n",
       " <span class=\"blind\" id=\"regularTeamRecordList_winDiff\">게임차</span>,\n",
       " <span class=\"blind\" id=\"regularTeamRecordList_streak\">연속</span>,\n",
       " <span class=\"blind\" id=\"regularTeamRecordList_bra\">출루율</span>,\n",
       " <span class=\"blind\" id=\"regularTeamRecordList_lra\">장타율</span>,\n",
       " <span class=\"blind\" id=\"regularTeamRecordList_recentResult\">최근 10경기</span>,\n",
       " <span id=\"team_NC\">NC</span>,\n",
       " <span id=\"team_WO\">키움</span>,\n",
       " <span id=\"team_OB\">두산</span>,\n",
       " <span id=\"team_LG\">LG</span>,\n",
       " <span id=\"team_KT\">KT</span>,\n",
       " <span id=\"team_HT\">KIA</span>,\n",
       " <span id=\"team_LT\">롯데</span>,\n",
       " <span id=\"team_SS\">삼성</span>,\n",
       " <span id=\"team_SK\">SK</span>,\n",
       " <span id=\"team_HH\">한화</span>]"
      ]
     },
     "execution_count": 63,
     "metadata": {},
     "output_type": "execute_result"
    }
   ],
   "source": [
    "soup.html.body.find_all(\"span\",id=True)"
   ]
  },
  {
   "cell_type": "code",
   "execution_count": 57,
   "metadata": {},
   "outputs": [
    {
     "data": {
      "text/plain": [
       "[<span id=\"team_NC\">NC</span>,\n",
       " <span id=\"team_WO\">키움</span>,\n",
       " <span id=\"team_OB\">두산</span>,\n",
       " <span id=\"team_LG\">LG</span>,\n",
       " <span id=\"team_KT\">KT</span>,\n",
       " <span id=\"team_HT\">KIA</span>,\n",
       " <span id=\"team_LT\">롯데</span>,\n",
       " <span id=\"team_SS\">삼성</span>,\n",
       " <span id=\"team_SK\">SK</span>,\n",
       " <span id=\"team_HH\">한화</span>]"
      ]
     },
     "execution_count": 57,
     "metadata": {},
     "output_type": "execute_result"
    }
   ],
   "source": [
    "soup.html.tbody.find_all(\"span\",id=True)"
   ]
  }
 ],
 "metadata": {
  "kernelspec": {
   "display_name": "Python 3",
   "language": "python",
   "name": "python3"
  },
  "language_info": {
   "codemirror_mode": {
    "name": "ipython",
    "version": 3
   },
   "file_extension": ".py",
   "mimetype": "text/x-python",
   "name": "python",
   "nbconvert_exporter": "python",
   "pygments_lexer": "ipython3",
   "version": "3.8.3"
  }
 },
 "nbformat": 4,
 "nbformat_minor": 4
}
