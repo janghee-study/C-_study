{
 "cells": [
  {
   "cell_type": "markdown",
   "metadata": {},
   "source": [
    "### QUIZ kbo 구단과 승을 html로 작성하라"
   ]
  },
  {
   "cell_type": "code",
   "execution_count": 60,
   "metadata": {},
   "outputs": [],
   "source": [
    "from bs4 import BeautifulSoup"
   ]
  },
  {
   "cell_type": "code",
   "execution_count": 62,
   "metadata": {},
   "outputs": [
    {
     "name": "stdout",
     "output_type": "stream",
     "text": [
      "저장되었습니다.\n"
     ]
    }
   ],
   "source": [
    "import urllib.request\n",
    "\n",
    "#HTML소스코드 가져오기\n",
    "url = \"https://sports.news.naver.com/kbaseball/record/index.nhn?category=kbo\"\n",
    "res = urllib.request.urlopen(url)\n",
    "data = res.read()\n",
    "\n",
    "#저장할 파일명\n",
    "savename = 'kbo.html'\n",
    "\n",
    "with open(savename,mode=\"wb\") as f:\n",
    "    f.write(data) \n",
    "    print('저장되었습니다.')"
   ]
  },
  {
   "cell_type": "code",
   "execution_count": 73,
   "metadata": {},
   "outputs": [],
   "source": [
    "#text = data.decode('utf-8')\n",
    "soup = BeautifulSoup(data,\"html.parser\")"
   ]
  },
  {
   "cell_type": "code",
   "execution_count": 74,
   "metadata": {},
   "outputs": [],
   "source": [
    "#soup #내용물 확인"
   ]
  },
  {
   "cell_type": "code",
   "execution_count": 75,
   "metadata": {},
   "outputs": [
    {
     "data": {
      "text/plain": [
       "'기록/순위, 야구 : 네이버 스포츠'"
      ]
     },
     "execution_count": 75,
     "metadata": {},
     "output_type": "execute_result"
    }
   ],
   "source": [
    "title = soup.html.title\n",
    "title.string"
   ]
  },
  {
   "cell_type": "code",
   "execution_count": 76,
   "metadata": {},
   "outputs": [
    {
     "data": {
      "text/plain": [
       "[<span class=\"blind\">네이버</span>,\n",
       " <span class=\"blind\">스포츠</span>,\n",
       " <span class=\"blind\">뉴스</span>,\n",
       " <span class=\"blind\">날씨</span>,\n",
       " <span class=\"blind\">TV연예</span>,\n",
       " <span class=\"blind\">검색</span>,\n",
       " <span class=\"blind\">종목별 경기 날짜 및 시즌 선택</span>,\n",
       " <span class=\"blind\">선택된 시즌</span>,\n",
       " <span class=\"blind\">이전 시즌으로 이동</span>,\n",
       " <span class=\"blind\">다음 시즌으로 이동</span>,\n",
       " <span class=\"blind\">시즌으로 이동</span>,\n",
       " <span class=\"blind\">순위</span>,\n",
       " <span class=\"blind\">팀</span>,\n",
       " <span class=\"blind\">경기수</span>,\n",
       " <span class=\"blind\">승</span>,\n",
       " <span class=\"blind\">패</span>,\n",
       " <span class=\"blind\">무</span>,\n",
       " <span class=\"blind\" id=\"regularTeamRecordList_wra\">승률</span>,\n",
       " <span class=\"blind\" id=\"regularTeamRecordList_winDiff\">게임차</span>,\n",
       " <span class=\"blind\" id=\"regularTeamRecordList_streak\">연속</span>,\n",
       " <span class=\"blind\" id=\"regularTeamRecordList_bra\">출루율</span>,\n",
       " <span class=\"blind\" id=\"regularTeamRecordList_lra\">장타율</span>,\n",
       " <span class=\"blind\" id=\"regularTeamRecordList_recentResult\">최근 10경기</span>,\n",
       " <span class=\"blind\">선택됨</span>,\n",
       " <span class=\"blind\">순위</span>,\n",
       " <span class=\"blind\">선수</span>,\n",
       " <span class=\"blind\">평균자책점</span>,\n",
       " <span class=\"blind\">경기수</span>,\n",
       " <span class=\"blind\">이닝</span>,\n",
       " <span class=\"blind\">승</span>,\n",
       " <span class=\"blind\">패</span>,\n",
       " <span class=\"blind\">세이브</span>,\n",
       " <span class=\"blind\">홀드</span>,\n",
       " <span class=\"blind\">삼진</span>,\n",
       " <span class=\"blind\">피안타</span>,\n",
       " <span class=\"blind\">피홈런</span>,\n",
       " <span class=\"blind\">실점</span>,\n",
       " <span class=\"blind\">볼넷</span>,\n",
       " <span class=\"blind\">사구</span>,\n",
       " <span class=\"blind\">승률</span>,\n",
       " <span class=\"blind\">순위</span>,\n",
       " <span class=\"blind\">선수</span>,\n",
       " <span class=\"blind\">WHIP</span>,\n",
       " <span class=\"blind\">K/9</span>,\n",
       " <span class=\"blind\">BB/9</span>,\n",
       " <span class=\"blind\">K/BB</span>,\n",
       " <span class=\"blind\">K%</span>,\n",
       " <span class=\"blind\">BB%</span>,\n",
       " <span class=\"blind\">WPA</span>,\n",
       " <span class=\"blind\">WAR</span>,\n",
       " <span class=\"blind\">순위</span>,\n",
       " <span class=\"blind\">선수</span>,\n",
       " <span class=\"blind\">타율</span>,\n",
       " <span class=\"blind\">경기수</span>,\n",
       " <span class=\"blind\">타수</span>,\n",
       " <span class=\"blind\">안타</span>,\n",
       " <span class=\"blind\">2루타</span>,\n",
       " <span class=\"blind\">3루타</span>,\n",
       " <span class=\"blind\">홈런</span>,\n",
       " <span class=\"blind\">타점</span>,\n",
       " <span class=\"blind\">득점</span>,\n",
       " <span class=\"blind\">도루</span>,\n",
       " <span class=\"blind\">볼넷</span>,\n",
       " <span class=\"blind\">삼진</span>,\n",
       " <span class=\"blind\">출루율</span>,\n",
       " <span class=\"blind\">장타율</span>,\n",
       " <span class=\"blind\">순위</span>,\n",
       " <span class=\"blind\">선수</span>,\n",
       " <span class=\"blind\">OPS</span>,\n",
       " <span class=\"blind\">IsoP</span>,\n",
       " <span class=\"blind\">BABIP</span>,\n",
       " <span class=\"blind\">wOBA</span>,\n",
       " <span class=\"blind\">wRC+</span>,\n",
       " <span class=\"blind\">WPA</span>,\n",
       " <span class=\"blind\">WAR</span>]"
      ]
     },
     "execution_count": 76,
     "metadata": {},
     "output_type": "execute_result"
    }
   ],
   "source": [
    "soup.html.body.find_all(\"span\",class_='blind')"
   ]
  },
  {
   "cell_type": "code",
   "execution_count": 77,
   "metadata": {},
   "outputs": [],
   "source": [
    "# soup.html.body.find_all(\"span\",id='team_NC')\n",
    "team = soup.html.tbody.find_all(\"span\",id = True)\n",
    "#team"
   ]
  },
  {
   "cell_type": "code",
   "execution_count": 78,
   "metadata": {},
   "outputs": [
    {
     "data": {
      "text/plain": [
       "['NC', '키움', '두산', 'LG', 'KT', 'KIA', '롯데', '삼성', 'SK', '한화']"
      ]
     },
     "execution_count": 78,
     "metadata": {},
     "output_type": "execute_result"
    }
   ],
   "source": [
    "team_name = [] #list()\n",
    "for i in range(0,10):\n",
    "    team_name.append(team[i].string)\n",
    "    \n",
    "team_name"
   ]
  },
  {
   "cell_type": "code",
   "execution_count": 79,
   "metadata": {},
   "outputs": [
    {
     "data": {
      "text/plain": [
       "['45', '45', '42', '42', '38', '38', '36', '36', '24', '20']"
      ]
     },
     "execution_count": 79,
     "metadata": {},
     "output_type": "execute_result"
    }
   ],
   "source": [
    "win = soup.body.tbody.find_all('span')\n",
    "#win\n",
    "win_list = list()\n",
    "\n",
    "for i in range(2,100,10):\n",
    "    #print(win[i].string)\n",
    "    win_list.append(win[i].string)\n",
    "    \n",
    "win_list"
   ]
  },
  {
   "cell_type": "markdown",
   "metadata": {},
   "source": [
    "### html파일을 만들어 봅시다."
   ]
  },
  {
   "cell_type": "code",
   "execution_count": 80,
   "metadata": {},
   "outputs": [],
   "source": [
    "html = open('test.html','w')\n",
    "\n",
    "html.write('''\n",
    "    <html>\n",
    "        <head>\n",
    "            <title> Test HTML </title>\n",
    "        </head>\n",
    "''')\n",
    "html.write('<body>')\n",
    "html.write('''\n",
    "    <table border=1>\n",
    "        <tr>\n",
    "            <th>1</th>\n",
    "            <th>2</th>\n",
    "            <th>3</th>\n",
    "        </tr>\n",
    "''')\n",
    "\n",
    "for i in range(1,10):\n",
    "    html.write('<tr>')\n",
    "    html.write(f'<td>{i}</td>')\n",
    "    html.write(f'<td>{team_name[i-1]}</td>')\n",
    "    html.write(f'<td>{win_list[i-1]}</td>')\n",
    "    html.write('</tr>')\n",
    "\n",
    "\n",
    "html.write('<h1> KBO LIST ~~!!! <h2> <p>')\n",
    "html.write('</body>')\n",
    "html.write('</html>')\n",
    "html.close()"
   ]
  }
 ],
 "metadata": {
  "kernelspec": {
   "display_name": "Python 3",
   "language": "python",
   "name": "python3"
  },
  "language_info": {
   "codemirror_mode": {
    "name": "ipython",
    "version": 3
   },
   "file_extension": ".py",
   "mimetype": "text/x-python",
   "name": "python",
   "nbconvert_exporter": "python",
   "pygments_lexer": "ipython3",
   "version": "3.8.3"
  }
 },
 "nbformat": 4,
 "nbformat_minor": 4
}
